{
 "cells": [
  {
   "cell_type": "markdown",
   "metadata": {},
   "source": [
    "## Importing dataset"
   ]
  },
  {
   "cell_type": "code",
   "execution_count": 21,
   "metadata": {},
   "outputs": [],
   "source": [
    "import wave, tarfile,os, librosa"
   ]
  },
  {
   "cell_type": "code",
   "execution_count": 22,
   "metadata": {},
   "outputs": [],
   "source": [
    "# from scipy.io import wavfile"
   ]
  },
  {
   "cell_type": "code",
   "execution_count": 23,
   "metadata": {},
   "outputs": [],
   "source": [
    "tf = tarfile.open('dataset/genres.tar.gz')"
   ]
  },
  {
   "cell_type": "code",
   "execution_count": 24,
   "metadata": {},
   "outputs": [],
   "source": [
    "wav_names = [fname for fname in tf.getnames()\n",
    "                 if \".wav\" in fname.split(os.sep)[-1]]"
   ]
  },
  {
   "cell_type": "code",
   "execution_count": 25,
   "metadata": {},
   "outputs": [
    {
     "data": {
      "text/plain": [
       "['genres/rock/rock.00000.wav',\n",
       " 'genres/rock/rock.00001.wav',\n",
       " 'genres/rock/rock.00002.wav',\n",
       " 'genres/rock/rock.00003.wav',\n",
       " 'genres/rock/rock.00004.wav',\n",
       " 'genres/rock/rock.00005.wav',\n",
       " 'genres/rock/rock.00006.wav',\n",
       " 'genres/rock/rock.00007.wav',\n",
       " 'genres/rock/rock.00008.wav',\n",
       " 'genres/rock/rock.00009.wav',\n",
       " 'genres/rock/rock.00010.wav',\n",
       " 'genres/rock/rock.00011.wav',\n",
       " 'genres/rock/rock.00012.wav',\n",
       " 'genres/rock/rock.00013.wav',\n",
       " 'genres/rock/rock.00014.wav',\n",
       " 'genres/rock/rock.00015.wav',\n",
       " 'genres/rock/rock.00016.wav',\n",
       " 'genres/rock/rock.00017.wav',\n",
       " 'genres/rock/rock.00018.wav',\n",
       " 'genres/rock/rock.00019.wav',\n",
       " 'genres/rock/rock.00020.wav',\n",
       " 'genres/rock/rock.00021.wav',\n",
       " 'genres/rock/rock.00022.wav',\n",
       " 'genres/rock/rock.00023.wav',\n",
       " 'genres/rock/rock.00024.wav',\n",
       " 'genres/rock/rock.00025.wav',\n",
       " 'genres/rock/rock.00026.wav',\n",
       " 'genres/rock/rock.00027.wav',\n",
       " 'genres/rock/rock.00028.wav',\n",
       " 'genres/rock/rock.00029.wav',\n",
       " 'genres/rock/rock.00030.wav',\n",
       " 'genres/rock/rock.00031.wav',\n",
       " 'genres/rock/rock.00032.wav',\n",
       " 'genres/rock/rock.00033.wav',\n",
       " 'genres/rock/rock.00034.wav',\n",
       " 'genres/rock/rock.00035.wav',\n",
       " 'genres/rock/rock.00036.wav',\n",
       " 'genres/rock/rock.00037.wav',\n",
       " 'genres/rock/rock.00038.wav',\n",
       " 'genres/rock/rock.00039.wav',\n",
       " 'genres/rock/rock.00040.wav',\n",
       " 'genres/rock/rock.00041.wav',\n",
       " 'genres/rock/rock.00042.wav',\n",
       " 'genres/rock/rock.00043.wav',\n",
       " 'genres/rock/rock.00044.wav',\n",
       " 'genres/rock/rock.00045.wav',\n",
       " 'genres/rock/rock.00046.wav',\n",
       " 'genres/rock/rock.00047.wav',\n",
       " 'genres/rock/rock.00048.wav',\n",
       " 'genres/rock/rock.00049.wav',\n",
       " 'genres/rock/rock.00050.wav',\n",
       " 'genres/rock/rock.00051.wav',\n",
       " 'genres/rock/rock.00052.wav',\n",
       " 'genres/rock/rock.00053.wav',\n",
       " 'genres/rock/rock.00054.wav',\n",
       " 'genres/rock/rock.00055.wav',\n",
       " 'genres/rock/rock.00056.wav',\n",
       " 'genres/rock/rock.00057.wav',\n",
       " 'genres/rock/rock.00058.wav',\n",
       " 'genres/rock/rock.00059.wav',\n",
       " 'genres/rock/rock.00060.wav',\n",
       " 'genres/rock/rock.00061.wav',\n",
       " 'genres/rock/rock.00062.wav',\n",
       " 'genres/rock/rock.00063.wav',\n",
       " 'genres/rock/rock.00064.wav',\n",
       " 'genres/rock/rock.00065.wav',\n",
       " 'genres/rock/rock.00066.wav',\n",
       " 'genres/rock/rock.00067.wav',\n",
       " 'genres/rock/rock.00068.wav',\n",
       " 'genres/rock/rock.00069.wav',\n",
       " 'genres/rock/rock.00070.wav',\n",
       " 'genres/rock/rock.00071.wav',\n",
       " 'genres/rock/rock.00072.wav',\n",
       " 'genres/rock/rock.00073.wav',\n",
       " 'genres/rock/rock.00074.wav',\n",
       " 'genres/rock/rock.00075.wav',\n",
       " 'genres/rock/rock.00076.wav',\n",
       " 'genres/rock/rock.00077.wav',\n",
       " 'genres/rock/rock.00078.wav',\n",
       " 'genres/rock/rock.00079.wav',\n",
       " 'genres/rock/rock.00080.wav',\n",
       " 'genres/rock/rock.00081.wav',\n",
       " 'genres/rock/rock.00082.wav',\n",
       " 'genres/rock/rock.00083.wav',\n",
       " 'genres/rock/rock.00084.wav',\n",
       " 'genres/rock/rock.00085.wav',\n",
       " 'genres/rock/rock.00086.wav',\n",
       " 'genres/rock/rock.00087.wav',\n",
       " 'genres/rock/rock.00088.wav',\n",
       " 'genres/rock/rock.00089.wav',\n",
       " 'genres/rock/rock.00090.wav',\n",
       " 'genres/rock/rock.00091.wav',\n",
       " 'genres/rock/rock.00092.wav',\n",
       " 'genres/rock/rock.00093.wav',\n",
       " 'genres/rock/rock.00094.wav',\n",
       " 'genres/rock/rock.00095.wav',\n",
       " 'genres/rock/rock.00096.wav',\n",
       " 'genres/rock/rock.00097.wav',\n",
       " 'genres/rock/rock.00098.wav',\n",
       " 'genres/rock/rock.00099.wav',\n",
       " 'genres/reggae/reggae.00000.wav',\n",
       " 'genres/reggae/reggae.00001.wav',\n",
       " 'genres/reggae/reggae.00002.wav',\n",
       " 'genres/reggae/reggae.00003.wav',\n",
       " 'genres/reggae/reggae.00004.wav',\n",
       " 'genres/reggae/reggae.00005.wav',\n",
       " 'genres/reggae/reggae.00006.wav',\n",
       " 'genres/reggae/reggae.00007.wav',\n",
       " 'genres/reggae/reggae.00008.wav',\n",
       " 'genres/reggae/reggae.00009.wav',\n",
       " 'genres/reggae/reggae.00010.wav',\n",
       " 'genres/reggae/reggae.00011.wav',\n",
       " 'genres/reggae/reggae.00012.wav',\n",
       " 'genres/reggae/reggae.00013.wav',\n",
       " 'genres/reggae/reggae.00014.wav',\n",
       " 'genres/reggae/reggae.00015.wav',\n",
       " 'genres/reggae/reggae.00016.wav',\n",
       " 'genres/reggae/reggae.00017.wav',\n",
       " 'genres/reggae/reggae.00018.wav',\n",
       " 'genres/reggae/reggae.00019.wav',\n",
       " 'genres/reggae/reggae.00020.wav',\n",
       " 'genres/reggae/reggae.00021.wav',\n",
       " 'genres/reggae/reggae.00022.wav',\n",
       " 'genres/reggae/reggae.00023.wav',\n",
       " 'genres/reggae/reggae.00024.wav',\n",
       " 'genres/reggae/reggae.00025.wav',\n",
       " 'genres/reggae/reggae.00026.wav',\n",
       " 'genres/reggae/reggae.00027.wav',\n",
       " 'genres/reggae/reggae.00028.wav',\n",
       " 'genres/reggae/reggae.00029.wav',\n",
       " 'genres/reggae/reggae.00030.wav',\n",
       " 'genres/reggae/reggae.00031.wav',\n",
       " 'genres/reggae/reggae.00032.wav',\n",
       " 'genres/reggae/reggae.00033.wav',\n",
       " 'genres/reggae/reggae.00034.wav',\n",
       " 'genres/reggae/reggae.00035.wav',\n",
       " 'genres/reggae/reggae.00036.wav',\n",
       " 'genres/reggae/reggae.00037.wav',\n",
       " 'genres/reggae/reggae.00038.wav',\n",
       " 'genres/reggae/reggae.00039.wav',\n",
       " 'genres/reggae/reggae.00040.wav',\n",
       " 'genres/reggae/reggae.00041.wav',\n",
       " 'genres/reggae/reggae.00042.wav',\n",
       " 'genres/reggae/reggae.00043.wav',\n",
       " 'genres/reggae/reggae.00044.wav',\n",
       " 'genres/reggae/reggae.00045.wav',\n",
       " 'genres/reggae/reggae.00046.wav',\n",
       " 'genres/reggae/reggae.00047.wav',\n",
       " 'genres/reggae/reggae.00048.wav',\n",
       " 'genres/reggae/reggae.00049.wav',\n",
       " 'genres/reggae/reggae.00050.wav',\n",
       " 'genres/reggae/reggae.00051.wav',\n",
       " 'genres/reggae/reggae.00052.wav',\n",
       " 'genres/reggae/reggae.00053.wav',\n",
       " 'genres/reggae/reggae.00054.wav',\n",
       " 'genres/reggae/reggae.00055.wav',\n",
       " 'genres/reggae/reggae.00056.wav',\n",
       " 'genres/reggae/reggae.00057.wav',\n",
       " 'genres/reggae/reggae.00058.wav',\n",
       " 'genres/reggae/reggae.00059.wav',\n",
       " 'genres/reggae/reggae.00060.wav',\n",
       " 'genres/reggae/reggae.00061.wav',\n",
       " 'genres/reggae/reggae.00062.wav',\n",
       " 'genres/reggae/reggae.00063.wav',\n",
       " 'genres/reggae/reggae.00064.wav',\n",
       " 'genres/reggae/reggae.00065.wav',\n",
       " 'genres/reggae/reggae.00066.wav',\n",
       " 'genres/reggae/reggae.00067.wav',\n",
       " 'genres/reggae/reggae.00068.wav',\n",
       " 'genres/reggae/reggae.00069.wav',\n",
       " 'genres/reggae/reggae.00070.wav',\n",
       " 'genres/reggae/reggae.00071.wav',\n",
       " 'genres/reggae/reggae.00072.wav',\n",
       " 'genres/reggae/reggae.00073.wav',\n",
       " 'genres/reggae/reggae.00074.wav',\n",
       " 'genres/reggae/reggae.00075.wav',\n",
       " 'genres/reggae/reggae.00076.wav',\n",
       " 'genres/reggae/reggae.00077.wav',\n",
       " 'genres/reggae/reggae.00078.wav',\n",
       " 'genres/reggae/reggae.00079.wav',\n",
       " 'genres/reggae/reggae.00080.wav',\n",
       " 'genres/reggae/reggae.00081.wav',\n",
       " 'genres/reggae/reggae.00082.wav',\n",
       " 'genres/reggae/reggae.00083.wav',\n",
       " 'genres/reggae/reggae.00084.wav',\n",
       " 'genres/reggae/reggae.00085.wav',\n",
       " 'genres/reggae/reggae.00086.wav',\n",
       " 'genres/reggae/reggae.00087.wav',\n",
       " 'genres/reggae/reggae.00088.wav',\n",
       " 'genres/reggae/reggae.00089.wav',\n",
       " 'genres/reggae/reggae.00090.wav',\n",
       " 'genres/reggae/reggae.00091.wav',\n",
       " 'genres/reggae/reggae.00092.wav',\n",
       " 'genres/reggae/reggae.00093.wav',\n",
       " 'genres/reggae/reggae.00094.wav',\n",
       " 'genres/reggae/reggae.00095.wav',\n",
       " 'genres/reggae/reggae.00096.wav',\n",
       " 'genres/reggae/reggae.00097.wav',\n",
       " 'genres/reggae/reggae.00098.wav',\n",
       " 'genres/reggae/reggae.00099.wav',\n",
       " 'genres/pop/pop.00000.wav',\n",
       " 'genres/pop/pop.00001.wav',\n",
       " 'genres/pop/pop.00002.wav',\n",
       " 'genres/pop/pop.00003.wav',\n",
       " 'genres/pop/pop.00004.wav',\n",
       " 'genres/pop/pop.00005.wav',\n",
       " 'genres/pop/pop.00006.wav',\n",
       " 'genres/pop/pop.00007.wav',\n",
       " 'genres/pop/pop.00008.wav',\n",
       " 'genres/pop/pop.00009.wav',\n",
       " 'genres/pop/pop.00010.wav',\n",
       " 'genres/pop/pop.00011.wav',\n",
       " 'genres/pop/pop.00012.wav',\n",
       " 'genres/pop/pop.00013.wav',\n",
       " 'genres/pop/pop.00014.wav',\n",
       " 'genres/pop/pop.00015.wav',\n",
       " 'genres/pop/pop.00016.wav',\n",
       " 'genres/pop/pop.00017.wav',\n",
       " 'genres/pop/pop.00018.wav',\n",
       " 'genres/pop/pop.00019.wav',\n",
       " 'genres/pop/pop.00020.wav',\n",
       " 'genres/pop/pop.00021.wav',\n",
       " 'genres/pop/pop.00022.wav',\n",
       " 'genres/pop/pop.00023.wav',\n",
       " 'genres/pop/pop.00024.wav',\n",
       " 'genres/pop/pop.00025.wav',\n",
       " 'genres/pop/pop.00026.wav',\n",
       " 'genres/pop/pop.00027.wav',\n",
       " 'genres/pop/pop.00028.wav',\n",
       " 'genres/pop/pop.00029.wav',\n",
       " 'genres/pop/pop.00030.wav',\n",
       " 'genres/pop/pop.00031.wav',\n",
       " 'genres/pop/pop.00032.wav',\n",
       " 'genres/pop/pop.00033.wav',\n",
       " 'genres/pop/pop.00034.wav',\n",
       " 'genres/pop/pop.00035.wav',\n",
       " 'genres/pop/pop.00036.wav',\n",
       " 'genres/pop/pop.00037.wav',\n",
       " 'genres/pop/pop.00038.wav',\n",
       " 'genres/pop/pop.00039.wav',\n",
       " 'genres/pop/pop.00040.wav',\n",
       " 'genres/pop/pop.00041.wav',\n",
       " 'genres/pop/pop.00042.wav',\n",
       " 'genres/pop/pop.00043.wav',\n",
       " 'genres/pop/pop.00044.wav',\n",
       " 'genres/pop/pop.00045.wav',\n",
       " 'genres/pop/pop.00046.wav',\n",
       " 'genres/pop/pop.00047.wav',\n",
       " 'genres/pop/pop.00048.wav',\n",
       " 'genres/pop/pop.00049.wav',\n",
       " 'genres/pop/pop.00050.wav',\n",
       " 'genres/pop/pop.00051.wav',\n",
       " 'genres/pop/pop.00052.wav',\n",
       " 'genres/pop/pop.00053.wav',\n",
       " 'genres/pop/pop.00054.wav',\n",
       " 'genres/pop/pop.00055.wav',\n",
       " 'genres/pop/pop.00056.wav',\n",
       " 'genres/pop/pop.00057.wav',\n",
       " 'genres/pop/pop.00058.wav',\n",
       " 'genres/pop/pop.00059.wav',\n",
       " 'genres/pop/pop.00060.wav',\n",
       " 'genres/pop/pop.00061.wav',\n",
       " 'genres/pop/pop.00062.wav',\n",
       " 'genres/pop/pop.00063.wav',\n",
       " 'genres/pop/pop.00064.wav',\n",
       " 'genres/pop/pop.00065.wav',\n",
       " 'genres/pop/pop.00066.wav',\n",
       " 'genres/pop/pop.00067.wav',\n",
       " 'genres/pop/pop.00068.wav',\n",
       " 'genres/pop/pop.00069.wav',\n",
       " 'genres/pop/pop.00070.wav',\n",
       " 'genres/pop/pop.00071.wav',\n",
       " 'genres/pop/pop.00072.wav',\n",
       " 'genres/pop/pop.00073.wav',\n",
       " 'genres/pop/pop.00074.wav',\n",
       " 'genres/pop/pop.00075.wav',\n",
       " 'genres/pop/pop.00076.wav',\n",
       " 'genres/pop/pop.00077.wav',\n",
       " 'genres/pop/pop.00078.wav',\n",
       " 'genres/pop/pop.00079.wav',\n",
       " 'genres/pop/pop.00080.wav',\n",
       " 'genres/pop/pop.00081.wav',\n",
       " 'genres/pop/pop.00082.wav',\n",
       " 'genres/pop/pop.00083.wav',\n",
       " 'genres/pop/pop.00084.wav',\n",
       " 'genres/pop/pop.00085.wav',\n",
       " 'genres/pop/pop.00086.wav',\n",
       " 'genres/pop/pop.00087.wav',\n",
       " 'genres/pop/pop.00088.wav',\n",
       " 'genres/pop/pop.00089.wav',\n",
       " 'genres/pop/pop.00090.wav',\n",
       " 'genres/pop/pop.00091.wav',\n",
       " 'genres/pop/pop.00092.wav',\n",
       " 'genres/pop/pop.00093.wav',\n",
       " 'genres/pop/pop.00094.wav',\n",
       " 'genres/pop/pop.00095.wav',\n",
       " 'genres/pop/pop.00096.wav',\n",
       " 'genres/pop/pop.00097.wav',\n",
       " 'genres/pop/pop.00098.wav',\n",
       " 'genres/pop/pop.00099.wav',\n",
       " 'genres/metal/metal.00000.wav',\n",
       " 'genres/metal/metal.00001.wav',\n",
       " 'genres/metal/metal.00002.wav',\n",
       " 'genres/metal/metal.00003.wav',\n",
       " 'genres/metal/metal.00004.wav',\n",
       " 'genres/metal/metal.00005.wav',\n",
       " 'genres/metal/metal.00006.wav',\n",
       " 'genres/metal/metal.00007.wav',\n",
       " 'genres/metal/metal.00008.wav',\n",
       " 'genres/metal/metal.00009.wav',\n",
       " 'genres/metal/metal.00010.wav',\n",
       " 'genres/metal/metal.00011.wav',\n",
       " 'genres/metal/metal.00012.wav',\n",
       " 'genres/metal/metal.00013.wav',\n",
       " 'genres/metal/metal.00014.wav',\n",
       " 'genres/metal/metal.00015.wav',\n",
       " 'genres/metal/metal.00016.wav',\n",
       " 'genres/metal/metal.00017.wav',\n",
       " 'genres/metal/metal.00018.wav',\n",
       " 'genres/metal/metal.00019.wav',\n",
       " 'genres/metal/metal.00020.wav',\n",
       " 'genres/metal/metal.00021.wav',\n",
       " 'genres/metal/metal.00022.wav',\n",
       " 'genres/metal/metal.00023.wav',\n",
       " 'genres/metal/metal.00024.wav',\n",
       " 'genres/metal/metal.00025.wav',\n",
       " 'genres/metal/metal.00026.wav',\n",
       " 'genres/metal/metal.00027.wav',\n",
       " 'genres/metal/metal.00028.wav',\n",
       " 'genres/metal/metal.00029.wav',\n",
       " 'genres/metal/metal.00030.wav',\n",
       " 'genres/metal/metal.00031.wav',\n",
       " 'genres/metal/metal.00032.wav',\n",
       " 'genres/metal/metal.00033.wav',\n",
       " 'genres/metal/metal.00034.wav',\n",
       " 'genres/metal/metal.00035.wav',\n",
       " 'genres/metal/metal.00036.wav',\n",
       " 'genres/metal/metal.00037.wav',\n",
       " 'genres/metal/metal.00038.wav',\n",
       " 'genres/metal/metal.00039.wav',\n",
       " 'genres/metal/metal.00040.wav',\n",
       " 'genres/metal/metal.00041.wav',\n",
       " 'genres/metal/metal.00042.wav',\n",
       " 'genres/metal/metal.00043.wav',\n",
       " 'genres/metal/metal.00044.wav',\n",
       " 'genres/metal/metal.00045.wav',\n",
       " 'genres/metal/metal.00046.wav',\n",
       " 'genres/metal/metal.00047.wav',\n",
       " 'genres/metal/metal.00048.wav',\n",
       " 'genres/metal/metal.00049.wav',\n",
       " 'genres/metal/metal.00050.wav',\n",
       " 'genres/metal/metal.00051.wav',\n",
       " 'genres/metal/metal.00052.wav',\n",
       " 'genres/metal/metal.00053.wav',\n",
       " 'genres/metal/metal.00054.wav',\n",
       " 'genres/metal/metal.00055.wav',\n",
       " 'genres/metal/metal.00056.wav',\n",
       " 'genres/metal/metal.00057.wav',\n",
       " 'genres/metal/metal.00058.wav',\n",
       " 'genres/metal/metal.00059.wav',\n",
       " 'genres/metal/metal.00060.wav',\n",
       " 'genres/metal/metal.00061.wav',\n",
       " 'genres/metal/metal.00062.wav',\n",
       " 'genres/metal/metal.00063.wav',\n",
       " 'genres/metal/metal.00064.wav',\n",
       " 'genres/metal/metal.00065.wav',\n",
       " 'genres/metal/metal.00066.wav',\n",
       " 'genres/metal/metal.00067.wav',\n",
       " 'genres/metal/metal.00068.wav',\n",
       " 'genres/metal/metal.00069.wav',\n",
       " 'genres/metal/metal.00070.wav',\n",
       " 'genres/metal/metal.00071.wav',\n",
       " 'genres/metal/metal.00072.wav',\n",
       " 'genres/metal/metal.00073.wav',\n",
       " 'genres/metal/metal.00074.wav',\n",
       " 'genres/metal/metal.00075.wav',\n",
       " 'genres/metal/metal.00076.wav',\n",
       " 'genres/metal/metal.00077.wav',\n",
       " 'genres/metal/metal.00078.wav',\n",
       " 'genres/metal/metal.00079.wav',\n",
       " 'genres/metal/metal.00080.wav',\n",
       " 'genres/metal/metal.00081.wav',\n",
       " 'genres/metal/metal.00082.wav',\n",
       " 'genres/metal/metal.00083.wav',\n",
       " 'genres/metal/metal.00084.wav',\n",
       " 'genres/metal/metal.00085.wav',\n",
       " 'genres/metal/metal.00086.wav',\n",
       " 'genres/metal/metal.00087.wav',\n",
       " 'genres/metal/metal.00088.wav',\n",
       " 'genres/metal/metal.00089.wav',\n",
       " 'genres/metal/metal.00090.wav',\n",
       " 'genres/metal/metal.00091.wav',\n",
       " 'genres/metal/metal.00092.wav',\n",
       " 'genres/metal/metal.00093.wav',\n",
       " 'genres/metal/metal.00094.wav',\n",
       " 'genres/metal/metal.00095.wav',\n",
       " 'genres/metal/metal.00096.wav',\n",
       " 'genres/metal/metal.00097.wav',\n",
       " 'genres/metal/metal.00098.wav',\n",
       " 'genres/metal/metal.00099.wav',\n",
       " 'genres/jazz/jazz.00000.wav',\n",
       " 'genres/jazz/jazz.00001.wav',\n",
       " 'genres/jazz/jazz.00002.wav',\n",
       " 'genres/jazz/jazz.00003.wav',\n",
       " 'genres/jazz/jazz.00004.wav',\n",
       " 'genres/jazz/jazz.00005.wav',\n",
       " 'genres/jazz/jazz.00006.wav',\n",
       " 'genres/jazz/jazz.00007.wav',\n",
       " 'genres/jazz/jazz.00008.wav',\n",
       " 'genres/jazz/jazz.00009.wav',\n",
       " 'genres/jazz/jazz.00010.wav',\n",
       " 'genres/jazz/jazz.00011.wav',\n",
       " 'genres/jazz/jazz.00012.wav',\n",
       " 'genres/jazz/jazz.00013.wav',\n",
       " 'genres/jazz/jazz.00014.wav',\n",
       " 'genres/jazz/jazz.00015.wav',\n",
       " 'genres/jazz/jazz.00016.wav',\n",
       " 'genres/jazz/jazz.00017.wav',\n",
       " 'genres/jazz/jazz.00018.wav',\n",
       " 'genres/jazz/jazz.00019.wav',\n",
       " 'genres/jazz/jazz.00020.wav',\n",
       " 'genres/jazz/jazz.00021.wav',\n",
       " 'genres/jazz/jazz.00022.wav',\n",
       " 'genres/jazz/jazz.00023.wav',\n",
       " 'genres/jazz/jazz.00024.wav',\n",
       " 'genres/jazz/jazz.00025.wav',\n",
       " 'genres/jazz/jazz.00026.wav',\n",
       " 'genres/jazz/jazz.00027.wav',\n",
       " 'genres/jazz/jazz.00028.wav',\n",
       " 'genres/jazz/jazz.00029.wav',\n",
       " 'genres/jazz/jazz.00030.wav',\n",
       " 'genres/jazz/jazz.00031.wav',\n",
       " 'genres/jazz/jazz.00032.wav',\n",
       " 'genres/jazz/jazz.00033.wav',\n",
       " 'genres/jazz/jazz.00034.wav',\n",
       " 'genres/jazz/jazz.00035.wav',\n",
       " 'genres/jazz/jazz.00036.wav',\n",
       " 'genres/jazz/jazz.00037.wav',\n",
       " 'genres/jazz/jazz.00038.wav',\n",
       " 'genres/jazz/jazz.00039.wav',\n",
       " 'genres/jazz/jazz.00040.wav',\n",
       " 'genres/jazz/jazz.00041.wav',\n",
       " 'genres/jazz/jazz.00042.wav',\n",
       " 'genres/jazz/jazz.00043.wav',\n",
       " 'genres/jazz/jazz.00044.wav',\n",
       " 'genres/jazz/jazz.00045.wav',\n",
       " 'genres/jazz/jazz.00046.wav',\n",
       " 'genres/jazz/jazz.00047.wav',\n",
       " 'genres/jazz/jazz.00048.wav',\n",
       " 'genres/jazz/jazz.00049.wav',\n",
       " 'genres/jazz/jazz.00050.wav',\n",
       " 'genres/jazz/jazz.00051.wav',\n",
       " 'genres/jazz/jazz.00052.wav',\n",
       " 'genres/jazz/jazz.00053.wav',\n",
       " 'genres/jazz/jazz.00054.wav',\n",
       " 'genres/jazz/jazz.00055.wav',\n",
       " 'genres/jazz/jazz.00056.wav',\n",
       " 'genres/jazz/jazz.00057.wav',\n",
       " 'genres/jazz/jazz.00058.wav',\n",
       " 'genres/jazz/jazz.00059.wav',\n",
       " 'genres/jazz/jazz.00060.wav',\n",
       " 'genres/jazz/jazz.00061.wav',\n",
       " 'genres/jazz/jazz.00062.wav',\n",
       " 'genres/jazz/jazz.00063.wav',\n",
       " 'genres/jazz/jazz.00064.wav',\n",
       " 'genres/jazz/jazz.00065.wav',\n",
       " 'genres/jazz/jazz.00066.wav',\n",
       " 'genres/jazz/jazz.00067.wav',\n",
       " 'genres/jazz/jazz.00068.wav',\n",
       " 'genres/jazz/jazz.00069.wav',\n",
       " 'genres/jazz/jazz.00070.wav',\n",
       " 'genres/jazz/jazz.00071.wav',\n",
       " 'genres/jazz/jazz.00072.wav',\n",
       " 'genres/jazz/jazz.00073.wav',\n",
       " 'genres/jazz/jazz.00074.wav',\n",
       " 'genres/jazz/jazz.00075.wav',\n",
       " 'genres/jazz/jazz.00076.wav',\n",
       " 'genres/jazz/jazz.00077.wav',\n",
       " 'genres/jazz/jazz.00078.wav',\n",
       " 'genres/jazz/jazz.00079.wav',\n",
       " 'genres/jazz/jazz.00080.wav',\n",
       " 'genres/jazz/jazz.00081.wav',\n",
       " 'genres/jazz/jazz.00082.wav',\n",
       " 'genres/jazz/jazz.00083.wav',\n",
       " 'genres/jazz/jazz.00084.wav',\n",
       " 'genres/jazz/jazz.00085.wav',\n",
       " 'genres/jazz/jazz.00086.wav',\n",
       " 'genres/jazz/jazz.00087.wav',\n",
       " 'genres/jazz/jazz.00088.wav',\n",
       " 'genres/jazz/jazz.00089.wav',\n",
       " 'genres/jazz/jazz.00090.wav',\n",
       " 'genres/jazz/jazz.00091.wav',\n",
       " 'genres/jazz/jazz.00092.wav',\n",
       " 'genres/jazz/jazz.00093.wav',\n",
       " 'genres/jazz/jazz.00094.wav',\n",
       " 'genres/jazz/jazz.00095.wav',\n",
       " 'genres/jazz/jazz.00096.wav',\n",
       " 'genres/jazz/jazz.00097.wav',\n",
       " 'genres/jazz/jazz.00098.wav',\n",
       " 'genres/jazz/jazz.00099.wav',\n",
       " 'genres/hiphop/hiphop.00000.wav',\n",
       " 'genres/hiphop/hiphop.00001.wav',\n",
       " 'genres/hiphop/hiphop.00002.wav',\n",
       " 'genres/hiphop/hiphop.00003.wav',\n",
       " 'genres/hiphop/hiphop.00004.wav',\n",
       " 'genres/hiphop/hiphop.00005.wav',\n",
       " 'genres/hiphop/hiphop.00006.wav',\n",
       " 'genres/hiphop/hiphop.00007.wav',\n",
       " 'genres/hiphop/hiphop.00008.wav',\n",
       " 'genres/hiphop/hiphop.00009.wav',\n",
       " 'genres/hiphop/hiphop.00010.wav',\n",
       " 'genres/hiphop/hiphop.00011.wav',\n",
       " 'genres/hiphop/hiphop.00012.wav',\n",
       " 'genres/hiphop/hiphop.00013.wav',\n",
       " 'genres/hiphop/hiphop.00014.wav',\n",
       " 'genres/hiphop/hiphop.00015.wav',\n",
       " 'genres/hiphop/hiphop.00016.wav',\n",
       " 'genres/hiphop/hiphop.00017.wav',\n",
       " 'genres/hiphop/hiphop.00018.wav',\n",
       " 'genres/hiphop/hiphop.00019.wav',\n",
       " 'genres/hiphop/hiphop.00020.wav',\n",
       " 'genres/hiphop/hiphop.00021.wav',\n",
       " 'genres/hiphop/hiphop.00022.wav',\n",
       " 'genres/hiphop/hiphop.00023.wav',\n",
       " 'genres/hiphop/hiphop.00024.wav',\n",
       " 'genres/hiphop/hiphop.00025.wav',\n",
       " 'genres/hiphop/hiphop.00026.wav',\n",
       " 'genres/hiphop/hiphop.00027.wav',\n",
       " 'genres/hiphop/hiphop.00028.wav',\n",
       " 'genres/hiphop/hiphop.00029.wav',\n",
       " 'genres/hiphop/hiphop.00030.wav',\n",
       " 'genres/hiphop/hiphop.00031.wav',\n",
       " 'genres/hiphop/hiphop.00032.wav',\n",
       " 'genres/hiphop/hiphop.00033.wav',\n",
       " 'genres/hiphop/hiphop.00034.wav',\n",
       " 'genres/hiphop/hiphop.00035.wav',\n",
       " 'genres/hiphop/hiphop.00036.wav',\n",
       " 'genres/hiphop/hiphop.00037.wav',\n",
       " 'genres/hiphop/hiphop.00038.wav',\n",
       " 'genres/hiphop/hiphop.00039.wav',\n",
       " 'genres/hiphop/hiphop.00040.wav',\n",
       " 'genres/hiphop/hiphop.00041.wav',\n",
       " 'genres/hiphop/hiphop.00042.wav',\n",
       " 'genres/hiphop/hiphop.00043.wav',\n",
       " 'genres/hiphop/hiphop.00044.wav',\n",
       " 'genres/hiphop/hiphop.00045.wav',\n",
       " 'genres/hiphop/hiphop.00046.wav',\n",
       " 'genres/hiphop/hiphop.00047.wav',\n",
       " 'genres/hiphop/hiphop.00048.wav',\n",
       " 'genres/hiphop/hiphop.00049.wav',\n",
       " 'genres/hiphop/hiphop.00050.wav',\n",
       " 'genres/hiphop/hiphop.00051.wav',\n",
       " 'genres/hiphop/hiphop.00052.wav',\n",
       " 'genres/hiphop/hiphop.00053.wav',\n",
       " 'genres/hiphop/hiphop.00054.wav',\n",
       " 'genres/hiphop/hiphop.00055.wav',\n",
       " 'genres/hiphop/hiphop.00056.wav',\n",
       " 'genres/hiphop/hiphop.00057.wav',\n",
       " 'genres/hiphop/hiphop.00058.wav',\n",
       " 'genres/hiphop/hiphop.00059.wav',\n",
       " 'genres/hiphop/hiphop.00060.wav',\n",
       " 'genres/hiphop/hiphop.00061.wav',\n",
       " 'genres/hiphop/hiphop.00062.wav',\n",
       " 'genres/hiphop/hiphop.00063.wav',\n",
       " 'genres/hiphop/hiphop.00064.wav',\n",
       " 'genres/hiphop/hiphop.00065.wav',\n",
       " 'genres/hiphop/hiphop.00066.wav',\n",
       " 'genres/hiphop/hiphop.00067.wav',\n",
       " 'genres/hiphop/hiphop.00068.wav',\n",
       " 'genres/hiphop/hiphop.00069.wav',\n",
       " 'genres/hiphop/hiphop.00070.wav',\n",
       " 'genres/hiphop/hiphop.00071.wav',\n",
       " 'genres/hiphop/hiphop.00072.wav',\n",
       " 'genres/hiphop/hiphop.00073.wav',\n",
       " 'genres/hiphop/hiphop.00074.wav',\n",
       " 'genres/hiphop/hiphop.00075.wav',\n",
       " 'genres/hiphop/hiphop.00076.wav',\n",
       " 'genres/hiphop/hiphop.00077.wav',\n",
       " 'genres/hiphop/hiphop.00078.wav',\n",
       " 'genres/hiphop/hiphop.00079.wav',\n",
       " 'genres/hiphop/hiphop.00080.wav',\n",
       " 'genres/hiphop/hiphop.00081.wav',\n",
       " 'genres/hiphop/hiphop.00082.wav',\n",
       " 'genres/hiphop/hiphop.00083.wav',\n",
       " 'genres/hiphop/hiphop.00084.wav',\n",
       " 'genres/hiphop/hiphop.00085.wav',\n",
       " 'genres/hiphop/hiphop.00086.wav',\n",
       " 'genres/hiphop/hiphop.00087.wav',\n",
       " 'genres/hiphop/hiphop.00088.wav',\n",
       " 'genres/hiphop/hiphop.00089.wav',\n",
       " 'genres/hiphop/hiphop.00090.wav',\n",
       " 'genres/hiphop/hiphop.00091.wav',\n",
       " 'genres/hiphop/hiphop.00092.wav',\n",
       " 'genres/hiphop/hiphop.00093.wav',\n",
       " 'genres/hiphop/hiphop.00094.wav',\n",
       " 'genres/hiphop/hiphop.00095.wav',\n",
       " 'genres/hiphop/hiphop.00096.wav',\n",
       " 'genres/hiphop/hiphop.00097.wav',\n",
       " 'genres/hiphop/hiphop.00098.wav',\n",
       " 'genres/hiphop/hiphop.00099.wav',\n",
       " 'genres/disco/disco.00000.wav',\n",
       " 'genres/disco/disco.00001.wav',\n",
       " 'genres/disco/disco.00002.wav',\n",
       " 'genres/disco/disco.00003.wav',\n",
       " 'genres/disco/disco.00004.wav',\n",
       " 'genres/disco/disco.00005.wav',\n",
       " 'genres/disco/disco.00006.wav',\n",
       " 'genres/disco/disco.00007.wav',\n",
       " 'genres/disco/disco.00008.wav',\n",
       " 'genres/disco/disco.00009.wav',\n",
       " 'genres/disco/disco.00010.wav',\n",
       " 'genres/disco/disco.00011.wav',\n",
       " 'genres/disco/disco.00012.wav',\n",
       " 'genres/disco/disco.00013.wav',\n",
       " 'genres/disco/disco.00014.wav',\n",
       " 'genres/disco/disco.00015.wav',\n",
       " 'genres/disco/disco.00016.wav',\n",
       " 'genres/disco/disco.00017.wav',\n",
       " 'genres/disco/disco.00018.wav',\n",
       " 'genres/disco/disco.00019.wav',\n",
       " 'genres/disco/disco.00020.wav',\n",
       " 'genres/disco/disco.00021.wav',\n",
       " 'genres/disco/disco.00022.wav',\n",
       " 'genres/disco/disco.00023.wav',\n",
       " 'genres/disco/disco.00024.wav',\n",
       " 'genres/disco/disco.00025.wav',\n",
       " 'genres/disco/disco.00026.wav',\n",
       " 'genres/disco/disco.00027.wav',\n",
       " 'genres/disco/disco.00028.wav',\n",
       " 'genres/disco/disco.00029.wav',\n",
       " 'genres/disco/disco.00030.wav',\n",
       " 'genres/disco/disco.00031.wav',\n",
       " 'genres/disco/disco.00032.wav',\n",
       " 'genres/disco/disco.00033.wav',\n",
       " 'genres/disco/disco.00034.wav',\n",
       " 'genres/disco/disco.00035.wav',\n",
       " 'genres/disco/disco.00036.wav',\n",
       " 'genres/disco/disco.00037.wav',\n",
       " 'genres/disco/disco.00038.wav',\n",
       " 'genres/disco/disco.00039.wav',\n",
       " 'genres/disco/disco.00040.wav',\n",
       " 'genres/disco/disco.00041.wav',\n",
       " 'genres/disco/disco.00042.wav',\n",
       " 'genres/disco/disco.00043.wav',\n",
       " 'genres/disco/disco.00044.wav',\n",
       " 'genres/disco/disco.00045.wav',\n",
       " 'genres/disco/disco.00046.wav',\n",
       " 'genres/disco/disco.00047.wav',\n",
       " 'genres/disco/disco.00048.wav',\n",
       " 'genres/disco/disco.00049.wav',\n",
       " 'genres/disco/disco.00050.wav',\n",
       " 'genres/disco/disco.00051.wav',\n",
       " 'genres/disco/disco.00052.wav',\n",
       " 'genres/disco/disco.00053.wav',\n",
       " 'genres/disco/disco.00054.wav',\n",
       " 'genres/disco/disco.00055.wav',\n",
       " 'genres/disco/disco.00056.wav',\n",
       " 'genres/disco/disco.00057.wav',\n",
       " 'genres/disco/disco.00058.wav',\n",
       " 'genres/disco/disco.00059.wav',\n",
       " 'genres/disco/disco.00060.wav',\n",
       " 'genres/disco/disco.00061.wav',\n",
       " 'genres/disco/disco.00062.wav',\n",
       " 'genres/disco/disco.00063.wav',\n",
       " 'genres/disco/disco.00064.wav',\n",
       " 'genres/disco/disco.00065.wav',\n",
       " 'genres/disco/disco.00066.wav',\n",
       " 'genres/disco/disco.00067.wav',\n",
       " 'genres/disco/disco.00068.wav',\n",
       " 'genres/disco/disco.00069.wav',\n",
       " 'genres/disco/disco.00070.wav',\n",
       " 'genres/disco/disco.00071.wav',\n",
       " 'genres/disco/disco.00072.wav',\n",
       " 'genres/disco/disco.00073.wav',\n",
       " 'genres/disco/disco.00074.wav',\n",
       " 'genres/disco/disco.00075.wav',\n",
       " 'genres/disco/disco.00076.wav',\n",
       " 'genres/disco/disco.00077.wav',\n",
       " 'genres/disco/disco.00078.wav',\n",
       " 'genres/disco/disco.00079.wav',\n",
       " 'genres/disco/disco.00080.wav',\n",
       " 'genres/disco/disco.00081.wav',\n",
       " 'genres/disco/disco.00082.wav',\n",
       " 'genres/disco/disco.00083.wav',\n",
       " 'genres/disco/disco.00084.wav',\n",
       " 'genres/disco/disco.00085.wav',\n",
       " 'genres/disco/disco.00086.wav',\n",
       " 'genres/disco/disco.00087.wav',\n",
       " 'genres/disco/disco.00088.wav',\n",
       " 'genres/disco/disco.00089.wav',\n",
       " 'genres/disco/disco.00090.wav',\n",
       " 'genres/disco/disco.00091.wav',\n",
       " 'genres/disco/disco.00092.wav',\n",
       " 'genres/disco/disco.00093.wav',\n",
       " 'genres/disco/disco.00094.wav',\n",
       " 'genres/disco/disco.00095.wav',\n",
       " 'genres/disco/disco.00096.wav',\n",
       " 'genres/disco/disco.00097.wav',\n",
       " 'genres/disco/disco.00098.wav',\n",
       " 'genres/disco/disco.00099.wav',\n",
       " 'genres/country/country.00000.wav',\n",
       " 'genres/country/country.00001.wav',\n",
       " 'genres/country/country.00002.wav',\n",
       " 'genres/country/country.00003.wav',\n",
       " 'genres/country/country.00004.wav',\n",
       " 'genres/country/country.00005.wav',\n",
       " 'genres/country/country.00006.wav',\n",
       " 'genres/country/country.00007.wav',\n",
       " 'genres/country/country.00008.wav',\n",
       " 'genres/country/country.00009.wav',\n",
       " 'genres/country/country.00010.wav',\n",
       " 'genres/country/country.00011.wav',\n",
       " 'genres/country/country.00012.wav',\n",
       " 'genres/country/country.00013.wav',\n",
       " 'genres/country/country.00014.wav',\n",
       " 'genres/country/country.00015.wav',\n",
       " 'genres/country/country.00016.wav',\n",
       " 'genres/country/country.00017.wav',\n",
       " 'genres/country/country.00018.wav',\n",
       " 'genres/country/country.00019.wav',\n",
       " 'genres/country/country.00020.wav',\n",
       " 'genres/country/country.00021.wav',\n",
       " 'genres/country/country.00022.wav',\n",
       " 'genres/country/country.00023.wav',\n",
       " 'genres/country/country.00024.wav',\n",
       " 'genres/country/country.00025.wav',\n",
       " 'genres/country/country.00026.wav',\n",
       " 'genres/country/country.00027.wav',\n",
       " 'genres/country/country.00028.wav',\n",
       " 'genres/country/country.00029.wav',\n",
       " 'genres/country/country.00030.wav',\n",
       " 'genres/country/country.00031.wav',\n",
       " 'genres/country/country.00032.wav',\n",
       " 'genres/country/country.00033.wav',\n",
       " 'genres/country/country.00034.wav',\n",
       " 'genres/country/country.00035.wav',\n",
       " 'genres/country/country.00036.wav',\n",
       " 'genres/country/country.00037.wav',\n",
       " 'genres/country/country.00038.wav',\n",
       " 'genres/country/country.00039.wav',\n",
       " 'genres/country/country.00040.wav',\n",
       " 'genres/country/country.00041.wav',\n",
       " 'genres/country/country.00042.wav',\n",
       " 'genres/country/country.00043.wav',\n",
       " 'genres/country/country.00044.wav',\n",
       " 'genres/country/country.00045.wav',\n",
       " 'genres/country/country.00046.wav',\n",
       " 'genres/country/country.00047.wav',\n",
       " 'genres/country/country.00048.wav',\n",
       " 'genres/country/country.00049.wav',\n",
       " 'genres/country/country.00050.wav',\n",
       " 'genres/country/country.00051.wav',\n",
       " 'genres/country/country.00052.wav',\n",
       " 'genres/country/country.00053.wav',\n",
       " 'genres/country/country.00054.wav',\n",
       " 'genres/country/country.00055.wav',\n",
       " 'genres/country/country.00056.wav',\n",
       " 'genres/country/country.00057.wav',\n",
       " 'genres/country/country.00058.wav',\n",
       " 'genres/country/country.00059.wav',\n",
       " 'genres/country/country.00060.wav',\n",
       " 'genres/country/country.00061.wav',\n",
       " 'genres/country/country.00062.wav',\n",
       " 'genres/country/country.00063.wav',\n",
       " 'genres/country/country.00064.wav',\n",
       " 'genres/country/country.00065.wav',\n",
       " 'genres/country/country.00066.wav',\n",
       " 'genres/country/country.00067.wav',\n",
       " 'genres/country/country.00068.wav',\n",
       " 'genres/country/country.00069.wav',\n",
       " 'genres/country/country.00070.wav',\n",
       " 'genres/country/country.00071.wav',\n",
       " 'genres/country/country.00072.wav',\n",
       " 'genres/country/country.00073.wav',\n",
       " 'genres/country/country.00074.wav',\n",
       " 'genres/country/country.00075.wav',\n",
       " 'genres/country/country.00076.wav',\n",
       " 'genres/country/country.00077.wav',\n",
       " 'genres/country/country.00078.wav',\n",
       " 'genres/country/country.00079.wav',\n",
       " 'genres/country/country.00080.wav',\n",
       " 'genres/country/country.00081.wav',\n",
       " 'genres/country/country.00082.wav',\n",
       " 'genres/country/country.00083.wav',\n",
       " 'genres/country/country.00084.wav',\n",
       " 'genres/country/country.00085.wav',\n",
       " 'genres/country/country.00086.wav',\n",
       " 'genres/country/country.00087.wav',\n",
       " 'genres/country/country.00088.wav',\n",
       " 'genres/country/country.00089.wav',\n",
       " 'genres/country/country.00090.wav',\n",
       " 'genres/country/country.00091.wav',\n",
       " 'genres/country/country.00092.wav',\n",
       " 'genres/country/country.00093.wav',\n",
       " 'genres/country/country.00094.wav',\n",
       " 'genres/country/country.00095.wav',\n",
       " 'genres/country/country.00096.wav',\n",
       " 'genres/country/country.00097.wav',\n",
       " 'genres/country/country.00098.wav',\n",
       " 'genres/country/country.00099.wav',\n",
       " 'genres/classical/classical.00000.wav',\n",
       " 'genres/classical/classical.00001.wav',\n",
       " 'genres/classical/classical.00002.wav',\n",
       " 'genres/classical/classical.00003.wav',\n",
       " 'genres/classical/classical.00004.wav',\n",
       " 'genres/classical/classical.00005.wav',\n",
       " 'genres/classical/classical.00006.wav',\n",
       " 'genres/classical/classical.00007.wav',\n",
       " 'genres/classical/classical.00008.wav',\n",
       " 'genres/classical/classical.00009.wav',\n",
       " 'genres/classical/classical.00010.wav',\n",
       " 'genres/classical/classical.00011.wav',\n",
       " 'genres/classical/classical.00012.wav',\n",
       " 'genres/classical/classical.00013.wav',\n",
       " 'genres/classical/classical.00014.wav',\n",
       " 'genres/classical/classical.00015.wav',\n",
       " 'genres/classical/classical.00016.wav',\n",
       " 'genres/classical/classical.00017.wav',\n",
       " 'genres/classical/classical.00018.wav',\n",
       " 'genres/classical/classical.00019.wav',\n",
       " 'genres/classical/classical.00020.wav',\n",
       " 'genres/classical/classical.00021.wav',\n",
       " 'genres/classical/classical.00022.wav',\n",
       " 'genres/classical/classical.00023.wav',\n",
       " 'genres/classical/classical.00024.wav',\n",
       " 'genres/classical/classical.00025.wav',\n",
       " 'genres/classical/classical.00026.wav',\n",
       " 'genres/classical/classical.00027.wav',\n",
       " 'genres/classical/classical.00028.wav',\n",
       " 'genres/classical/classical.00029.wav',\n",
       " 'genres/classical/classical.00030.wav',\n",
       " 'genres/classical/classical.00031.wav',\n",
       " 'genres/classical/classical.00032.wav',\n",
       " 'genres/classical/classical.00033.wav',\n",
       " 'genres/classical/classical.00034.wav',\n",
       " 'genres/classical/classical.00035.wav',\n",
       " 'genres/classical/classical.00036.wav',\n",
       " 'genres/classical/classical.00037.wav',\n",
       " 'genres/classical/classical.00038.wav',\n",
       " 'genres/classical/classical.00039.wav',\n",
       " 'genres/classical/classical.00040.wav',\n",
       " 'genres/classical/classical.00041.wav',\n",
       " 'genres/classical/classical.00042.wav',\n",
       " 'genres/classical/classical.00043.wav',\n",
       " 'genres/classical/classical.00044.wav',\n",
       " 'genres/classical/classical.00045.wav',\n",
       " 'genres/classical/classical.00046.wav',\n",
       " 'genres/classical/classical.00047.wav',\n",
       " 'genres/classical/classical.00048.wav',\n",
       " 'genres/classical/classical.00049.wav',\n",
       " 'genres/classical/classical.00050.wav',\n",
       " 'genres/classical/classical.00051.wav',\n",
       " 'genres/classical/classical.00052.wav',\n",
       " 'genres/classical/classical.00053.wav',\n",
       " 'genres/classical/classical.00054.wav',\n",
       " 'genres/classical/classical.00055.wav',\n",
       " 'genres/classical/classical.00056.wav',\n",
       " 'genres/classical/classical.00057.wav',\n",
       " 'genres/classical/classical.00058.wav',\n",
       " 'genres/classical/classical.00059.wav',\n",
       " 'genres/classical/classical.00060.wav',\n",
       " 'genres/classical/classical.00061.wav',\n",
       " 'genres/classical/classical.00062.wav',\n",
       " 'genres/classical/classical.00063.wav',\n",
       " 'genres/classical/classical.00064.wav',\n",
       " 'genres/classical/classical.00065.wav',\n",
       " 'genres/classical/classical.00066.wav',\n",
       " 'genres/classical/classical.00067.wav',\n",
       " 'genres/classical/classical.00068.wav',\n",
       " 'genres/classical/classical.00069.wav',\n",
       " 'genres/classical/classical.00070.wav',\n",
       " 'genres/classical/classical.00071.wav',\n",
       " 'genres/classical/classical.00072.wav',\n",
       " 'genres/classical/classical.00073.wav',\n",
       " 'genres/classical/classical.00074.wav',\n",
       " 'genres/classical/classical.00075.wav',\n",
       " 'genres/classical/classical.00076.wav',\n",
       " 'genres/classical/classical.00077.wav',\n",
       " 'genres/classical/classical.00078.wav',\n",
       " 'genres/classical/classical.00079.wav',\n",
       " 'genres/classical/classical.00080.wav',\n",
       " 'genres/classical/classical.00081.wav',\n",
       " 'genres/classical/classical.00082.wav',\n",
       " 'genres/classical/classical.00083.wav',\n",
       " 'genres/classical/classical.00084.wav',\n",
       " 'genres/classical/classical.00085.wav',\n",
       " 'genres/classical/classical.00086.wav',\n",
       " 'genres/classical/classical.00087.wav',\n",
       " 'genres/classical/classical.00088.wav',\n",
       " 'genres/classical/classical.00089.wav',\n",
       " 'genres/classical/classical.00090.wav',\n",
       " 'genres/classical/classical.00091.wav',\n",
       " 'genres/classical/classical.00092.wav',\n",
       " 'genres/classical/classical.00093.wav',\n",
       " 'genres/classical/classical.00094.wav',\n",
       " 'genres/classical/classical.00095.wav',\n",
       " 'genres/classical/classical.00096.wav',\n",
       " 'genres/classical/classical.00097.wav',\n",
       " 'genres/classical/classical.00098.wav',\n",
       " 'genres/classical/classical.00099.wav',\n",
       " 'genres/blues/blues.00000.wav',\n",
       " 'genres/blues/blues.00001.wav',\n",
       " 'genres/blues/blues.00002.wav',\n",
       " 'genres/blues/blues.00003.wav',\n",
       " 'genres/blues/blues.00004.wav',\n",
       " 'genres/blues/blues.00005.wav',\n",
       " 'genres/blues/blues.00006.wav',\n",
       " 'genres/blues/blues.00007.wav',\n",
       " 'genres/blues/blues.00008.wav',\n",
       " 'genres/blues/blues.00009.wav',\n",
       " 'genres/blues/blues.00010.wav',\n",
       " 'genres/blues/blues.00011.wav',\n",
       " 'genres/blues/blues.00012.wav',\n",
       " 'genres/blues/blues.00013.wav',\n",
       " 'genres/blues/blues.00014.wav',\n",
       " 'genres/blues/blues.00015.wav',\n",
       " 'genres/blues/blues.00016.wav',\n",
       " 'genres/blues/blues.00017.wav',\n",
       " 'genres/blues/blues.00018.wav',\n",
       " 'genres/blues/blues.00019.wav',\n",
       " 'genres/blues/blues.00020.wav',\n",
       " 'genres/blues/blues.00021.wav',\n",
       " 'genres/blues/blues.00022.wav',\n",
       " 'genres/blues/blues.00023.wav',\n",
       " 'genres/blues/blues.00024.wav',\n",
       " 'genres/blues/blues.00025.wav',\n",
       " 'genres/blues/blues.00026.wav',\n",
       " 'genres/blues/blues.00027.wav',\n",
       " 'genres/blues/blues.00028.wav',\n",
       " 'genres/blues/blues.00029.wav',\n",
       " 'genres/blues/blues.00030.wav',\n",
       " 'genres/blues/blues.00031.wav',\n",
       " 'genres/blues/blues.00032.wav',\n",
       " 'genres/blues/blues.00033.wav',\n",
       " 'genres/blues/blues.00034.wav',\n",
       " 'genres/blues/blues.00035.wav',\n",
       " 'genres/blues/blues.00036.wav',\n",
       " 'genres/blues/blues.00037.wav',\n",
       " 'genres/blues/blues.00038.wav',\n",
       " 'genres/blues/blues.00039.wav',\n",
       " 'genres/blues/blues.00040.wav',\n",
       " 'genres/blues/blues.00041.wav',\n",
       " 'genres/blues/blues.00042.wav',\n",
       " 'genres/blues/blues.00043.wav',\n",
       " 'genres/blues/blues.00044.wav',\n",
       " 'genres/blues/blues.00045.wav',\n",
       " 'genres/blues/blues.00046.wav',\n",
       " 'genres/blues/blues.00047.wav',\n",
       " 'genres/blues/blues.00048.wav',\n",
       " 'genres/blues/blues.00049.wav',\n",
       " 'genres/blues/blues.00050.wav',\n",
       " 'genres/blues/blues.00051.wav',\n",
       " 'genres/blues/blues.00052.wav',\n",
       " 'genres/blues/blues.00053.wav',\n",
       " 'genres/blues/blues.00054.wav',\n",
       " 'genres/blues/blues.00055.wav',\n",
       " 'genres/blues/blues.00056.wav',\n",
       " 'genres/blues/blues.00057.wav',\n",
       " 'genres/blues/blues.00058.wav',\n",
       " 'genres/blues/blues.00059.wav',\n",
       " 'genres/blues/blues.00060.wav',\n",
       " 'genres/blues/blues.00061.wav',\n",
       " 'genres/blues/blues.00062.wav',\n",
       " 'genres/blues/blues.00063.wav',\n",
       " 'genres/blues/blues.00064.wav',\n",
       " 'genres/blues/blues.00065.wav',\n",
       " 'genres/blues/blues.00066.wav',\n",
       " 'genres/blues/blues.00067.wav',\n",
       " 'genres/blues/blues.00068.wav',\n",
       " 'genres/blues/blues.00069.wav',\n",
       " 'genres/blues/blues.00070.wav',\n",
       " 'genres/blues/blues.00071.wav',\n",
       " 'genres/blues/blues.00072.wav',\n",
       " 'genres/blues/blues.00073.wav',\n",
       " 'genres/blues/blues.00074.wav',\n",
       " 'genres/blues/blues.00075.wav',\n",
       " 'genres/blues/blues.00076.wav',\n",
       " 'genres/blues/blues.00077.wav',\n",
       " 'genres/blues/blues.00078.wav',\n",
       " 'genres/blues/blues.00079.wav',\n",
       " 'genres/blues/blues.00080.wav',\n",
       " 'genres/blues/blues.00081.wav',\n",
       " 'genres/blues/blues.00082.wav',\n",
       " 'genres/blues/blues.00083.wav',\n",
       " 'genres/blues/blues.00084.wav',\n",
       " 'genres/blues/blues.00085.wav',\n",
       " 'genres/blues/blues.00086.wav',\n",
       " 'genres/blues/blues.00087.wav',\n",
       " 'genres/blues/blues.00088.wav',\n",
       " 'genres/blues/blues.00089.wav',\n",
       " 'genres/blues/blues.00090.wav',\n",
       " 'genres/blues/blues.00091.wav',\n",
       " 'genres/blues/blues.00092.wav',\n",
       " 'genres/blues/blues.00093.wav',\n",
       " 'genres/blues/blues.00094.wav',\n",
       " 'genres/blues/blues.00095.wav',\n",
       " 'genres/blues/blues.00096.wav',\n",
       " 'genres/blues/blues.00097.wav',\n",
       " 'genres/blues/blues.00098.wav',\n",
       " 'genres/blues/blues.00099.wav']"
      ]
     },
     "execution_count": 25,
     "metadata": {},
     "output_type": "execute_result"
    }
   ],
   "source": [
    "wav_names"
   ]
  },
  {
   "cell_type": "code",
   "execution_count": 6,
   "metadata": {},
   "outputs": [
    {
     "data": {
      "text/plain": [
       "1000"
      ]
     },
     "execution_count": 6,
     "metadata": {},
     "output_type": "execute_result"
    }
   ],
   "source": [
    "len(wav_names)"
   ]
  },
  {
   "cell_type": "code",
   "execution_count": null,
   "metadata": {},
   "outputs": [],
   "source": [
    "# speech = []\n",
    "f = tf.extractfile(wav_names[1])"
   ]
  },
  {
   "cell_type": "code",
   "execution_count": null,
   "metadata": {},
   "outputs": [],
   "source": [
    "# fs, d = wavfile.read(f)"
   ]
  },
  {
   "cell_type": "code",
   "execution_count": null,
   "metadata": {},
   "outputs": [],
   "source": [
    "# d.shape"
   ]
  },
  {
   "cell_type": "code",
   "execution_count": null,
   "metadata": {},
   "outputs": [],
   "source": [
    "# fs"
   ]
  },
  {
   "cell_type": "code",
   "execution_count": null,
   "metadata": {},
   "outputs": [],
   "source": [
    "# max(d)"
   ]
  },
  {
   "cell_type": "code",
   "execution_count": null,
   "metadata": {},
   "outputs": [],
   "source": [
    "# d = d.astype('float32')/2**15"
   ]
  },
  {
   "cell_type": "code",
   "execution_count": null,
   "metadata": {},
   "outputs": [],
   "source": [
    "d, fs = librosa.load(f)"
   ]
  },
  {
   "cell_type": "code",
   "execution_count": null,
   "metadata": {},
   "outputs": [],
   "source": [
    "d_mod = d[fs*10:fs*20]"
   ]
  },
  {
   "cell_type": "code",
   "execution_count": null,
   "metadata": {},
   "outputs": [],
   "source": [
    "d.shape"
   ]
  },
  {
   "cell_type": "code",
   "execution_count": null,
   "metadata": {},
   "outputs": [],
   "source": [
    "d_mod.shape"
   ]
  },
  {
   "cell_type": "code",
   "execution_count": null,
   "metadata": {},
   "outputs": [],
   "source": [
    "max(d)"
   ]
  },
  {
   "cell_type": "code",
   "execution_count": null,
   "metadata": {},
   "outputs": [],
   "source": [
    "fs"
   ]
  },
  {
   "cell_type": "markdown",
   "metadata": {},
   "source": [
    "# FFT method"
   ]
  },
  {
   "cell_type": "markdown",
   "metadata": {},
   "source": [
    "## feature extraction "
   ]
  },
  {
   "cell_type": "code",
   "execution_count": 6,
   "metadata": {},
   "outputs": [],
   "source": [
    "import matplotlib.pyplot as plt"
   ]
  },
  {
   "cell_type": "code",
   "execution_count": null,
   "metadata": {},
   "outputs": [],
   "source": [
    "import librosa.display"
   ]
  },
  {
   "cell_type": "code",
   "execution_count": null,
   "metadata": {},
   "outputs": [],
   "source": [
    "librosa.display.waveplot(d)"
   ]
  },
  {
   "cell_type": "code",
   "execution_count": null,
   "metadata": {},
   "outputs": [],
   "source": [
    "X = librosa.stft(d)\n",
    "Xdb = librosa.amplitude_to_db(abs(X))\n",
    "plt.figure(figsize=(14, 5))\n",
    "librosa.display.specshow(Xdb, sr = fs, x_axis = 'time', y_axis = 'hz')\n",
    "plt.colorbar()"
   ]
  },
  {
   "cell_type": "code",
   "execution_count": null,
   "metadata": {},
   "outputs": [],
   "source": [
    "mfccs = librosa.feature.mfcc(d, sr=fs)"
   ]
  },
  {
   "cell_type": "code",
   "execution_count": null,
   "metadata": {},
   "outputs": [],
   "source": [
    "mfccs.shape"
   ]
  },
  {
   "cell_type": "markdown",
   "metadata": {},
   "source": [
    "======================================================================================================================="
   ]
  },
  {
   "cell_type": "code",
   "execution_count": null,
   "metadata": {},
   "outputs": [],
   "source": [
    "f = tf.extractfile(wav_names[0])\n",
    "d, fs = librosa.load(f)\n",
    "# d = d.astype('float32')/2**15\n",
    "X = librosa.stft(d)\n",
    "Xdb1 = librosa.amplitude_to_db(abs(X))\n",
    "# plt.figure(figsize=(14, 5))\n",
    "# librosa.display.specshow(Xdb, sr = fs, x_axis = 'time', y_axis = 'hz')\n",
    "# plt.colorbar()"
   ]
  },
  {
   "cell_type": "code",
   "execution_count": null,
   "metadata": {},
   "outputs": [],
   "source": [
    "f = tf.extractfile(wav_names[1])\n",
    "d, fs = librosa.load(f)\n",
    "# d = d.astype('float32')/2**15\n",
    "X = librosa.stft(d)\n",
    "Xdb2 = librosa.amplitude_to_db(abs(X))\n",
    "# plt.figure(figsize=(14, 5))\n",
    "# librosa.display.specshow(Xdb, sr = fs, x_axis = 'time', y_axis = 'hz')\n",
    "# plt.colorbar()"
   ]
  },
  {
   "cell_type": "code",
   "execution_count": null,
   "metadata": {},
   "outputs": [],
   "source": [
    "f = tf.extractfile(wav_names[101])\n",
    "d, fs = librosa.load(f)\n",
    "# d = d.astype('float32')/2**15\n",
    "X = librosa.stft(d)\n",
    "Xdb3 = librosa.amplitude_to_db(abs(X))\n",
    "# plt.figure(figsize=(14, 5))\n",
    "# librosa.display.specshow(Xdb, sr = fs, x_axis = 'time', y_axis = 'hz')\n",
    "# plt.colorbar()"
   ]
  },
  {
   "cell_type": "code",
   "execution_count": null,
   "metadata": {},
   "outputs": [],
   "source": [
    "f = tf.extractfile(wav_names[102])\n",
    "d, fs = librosa.load(f)\n",
    "# d = d.astype('float32')/2**15\n",
    "X = librosa.stft(d)\n",
    "Xdb4 = librosa.amplitude_to_db(abs(X))\n",
    "# plt.figure(figsize=(14, 5))\n",
    "# librosa.display.specshow(Xdb, sr = fs, x_axis = 'time', y_axis = 'hz')\n",
    "# plt.colorbar()"
   ]
  },
  {
   "cell_type": "markdown",
   "metadata": {},
   "source": [
    "========================================================================================================================="
   ]
  },
  {
   "cell_type": "code",
   "execution_count": null,
   "metadata": {},
   "outputs": [],
   "source": [
    "plt.figure()\n",
    "plt.figure(figsize=(14, 5))\n",
    "plt.subplot(2, 2, 1)\n",
    "librosa.display.specshow(Xdb1, sr = fs, x_axis = 'time', y_axis = 'hz')\n",
    "plt.subplot(2, 2, 2)\n",
    "librosa.display.specshow(Xdb2, sr = fs, x_axis = 'time', y_axis = 'hz')\n",
    "plt.subplot(2, 2, 3)\n",
    "librosa.display.specshow(Xdb3, sr = fs, x_axis = 'time', y_axis = 'hz')\n",
    "plt.subplot(2, 2, 4)\n",
    "librosa.display.specshow(Xdb4, sr = fs, x_axis = 'time', y_axis = 'hz')\n",
    "# plt.colorbar()"
   ]
  },
  {
   "cell_type": "markdown",
   "metadata": {},
   "source": [
    "====================================================================================================================="
   ]
  },
  {
   "cell_type": "code",
   "execution_count": null,
   "metadata": {},
   "outputs": [],
   "source": [
    "import numpy as np"
   ]
  },
  {
   "cell_type": "code",
   "execution_count": null,
   "metadata": {},
   "outputs": [],
   "source": [
    "import librosa.feature"
   ]
  },
  {
   "cell_type": "code",
   "execution_count": null,
   "metadata": {},
   "outputs": [],
   "source": [
    "f = tf.extractfile(wav_names[0])\n",
    "d, fs = librosa.load(f)\n",
    "X = librosa.stft(d)\n",
    "Xdb2 = librosa.amplitude_to_db(abs(X))"
   ]
  },
  {
   "cell_type": "code",
   "execution_count": null,
   "metadata": {},
   "outputs": [],
   "source": [
    "chroma = librosa.feature.chroma_stft(y=d, sr = fs)"
   ]
  },
  {
   "cell_type": "code",
   "execution_count": null,
   "metadata": {},
   "outputs": [],
   "source": [
    "chroma.shape\n",
    "temp= np.mean(chroma)"
   ]
  },
  {
   "cell_type": "code",
   "execution_count": null,
   "metadata": {},
   "outputs": [],
   "source": [
    "rmse = librosa.feature.rms(y = d)"
   ]
  },
  {
   "cell_type": "code",
   "execution_count": null,
   "metadata": {},
   "outputs": [],
   "source": [
    "rmse.shape"
   ]
  },
  {
   "cell_type": "code",
   "execution_count": null,
   "metadata": {},
   "outputs": [],
   "source": [
    "librosa.feature.mfcc(y = d, sr = fs).shape"
   ]
  },
  {
   "cell_type": "code",
   "execution_count": null,
   "metadata": {},
   "outputs": [],
   "source": [
    "mfcc = librosa.feature.mfcc(y = d, sr = fs)"
   ]
  },
  {
   "cell_type": "code",
   "execution_count": null,
   "metadata": {},
   "outputs": [],
   "source": [
    "mfcc.shape"
   ]
  },
  {
   "cell_type": "code",
   "execution_count": null,
   "metadata": {},
   "outputs": [],
   "source": [
    "temp = np.mean(mfcc, axis = 1)"
   ]
  },
  {
   "cell_type": "code",
   "execution_count": null,
   "metadata": {},
   "outputs": [],
   "source": [
    "temp.shape"
   ]
  },
  {
   "cell_type": "code",
   "execution_count": null,
   "metadata": {},
   "outputs": [],
   "source": [
    "for e in mfcc:\n",
    "    print(e.shape)\n",
    "    break"
   ]
  },
  {
   "cell_type": "markdown",
   "metadata": {},
   "source": [
    "## Create feature matrix"
   ]
  },
  {
   "cell_type": "code",
   "execution_count": null,
   "metadata": {},
   "outputs": [],
   "source": [
    "import tqdm\n",
    "from tqdm import tqdm\n",
    "# import pandas as pd"
   ]
  },
  {
   "cell_type": "code",
   "execution_count": null,
   "metadata": {},
   "outputs": [],
   "source": [
    "X_data = np.zeros((len(wav_names), 26))\n",
    "for i in tqdm(range(len(wav_names))):\n",
    "    f = tf.extractfile(wav_names[i])\n",
    "    d, fs = librosa.load(f)\n",
    "#     d = d[fs*10:fs*20]\n",
    "    X_data[i, 0] = np.mean(librosa.feature.chroma_stft(y = d, sr = fs))\n",
    "    X_data[i, 1] = np.mean(librosa.feature.rms(y = d))\n",
    "    X_data[i, 2] = np.mean(librosa.feature.spectral_centroid(y = d, sr = fs))\n",
    "    X_data[i, 3] = np.mean(librosa.feature.spectral_bandwidth(y = d, sr = fs))\n",
    "    X_data[i, 4] = np.mean(librosa.feature.spectral_rolloff(y = d, sr = fs))\n",
    "    X_data[i, 5] = np.mean(librosa.feature.zero_crossing_rate(d))\n",
    "    X_data[i, 6:] = np.mean(librosa.feature.mfcc(y = d, sr = fs), axis = 1)"
   ]
  },
  {
   "cell_type": "code",
   "execution_count": null,
   "metadata": {},
   "outputs": [],
   "source": [
    "X_data.shape"
   ]
  },
  {
   "cell_type": "code",
   "execution_count": null,
   "metadata": {},
   "outputs": [],
   "source": [
    "np.save('fft_featurematrix', X_data)"
   ]
  },
  {
   "cell_type": "markdown",
   "metadata": {},
   "source": [
    "## Train model"
   ]
  },
  {
   "cell_type": "code",
   "execution_count": 143,
   "metadata": {},
   "outputs": [],
   "source": [
    "from sklearn.preprocessing import LabelEncoder, StandardScaler"
   ]
  },
  {
   "cell_type": "code",
   "execution_count": 637,
   "metadata": {},
   "outputs": [],
   "source": [
    "y = []\n",
    "for i in range(len(wav_names)):\n",
    "    y.append(wav_names[i].split('/')[1])"
   ]
  },
  {
   "cell_type": "code",
   "execution_count": 638,
   "metadata": {},
   "outputs": [],
   "source": [
    "encoder = LabelEncoder()\n",
    "y = encoder.fit_transform(y)"
   ]
  },
  {
   "cell_type": "code",
   "execution_count": 639,
   "metadata": {},
   "outputs": [],
   "source": [
    "scaler = StandardScaler()\n",
    "X_scaled = scaler.fit_transform(X_data_feat)"
   ]
  },
  {
   "cell_type": "code",
   "execution_count": 640,
   "metadata": {},
   "outputs": [],
   "source": [
    "from sklearn.model_selection import train_test_split"
   ]
  },
  {
   "cell_type": "code",
   "execution_count": 641,
   "metadata": {},
   "outputs": [],
   "source": [
    "X_train, X_test, y_train, y_test = train_test_split(X_scaled, y, test_size = 0.2, random_state=42)"
   ]
  },
  {
   "cell_type": "code",
   "execution_count": 642,
   "metadata": {},
   "outputs": [],
   "source": [
    "from sklearn.ensemble import GradientBoostingClassifier"
   ]
  },
  {
   "cell_type": "code",
   "execution_count": 649,
   "metadata": {},
   "outputs": [],
   "source": [
    "cls = GradientBoostingClassifier(n_estimators=2000)"
   ]
  },
  {
   "cell_type": "code",
   "execution_count": 650,
   "metadata": {
    "scrolled": true
   },
   "outputs": [
    {
     "data": {
      "text/plain": [
       "GradientBoostingClassifier(criterion='friedman_mse', init=None,\n",
       "                           learning_rate=0.1, loss='deviance', max_depth=3,\n",
       "                           max_features=None, max_leaf_nodes=None,\n",
       "                           min_impurity_decrease=0.0, min_impurity_split=None,\n",
       "                           min_samples_leaf=1, min_samples_split=2,\n",
       "                           min_weight_fraction_leaf=0.0, n_estimators=2000,\n",
       "                           n_iter_no_change=None, presort='auto',\n",
       "                           random_state=None, subsample=1.0, tol=0.0001,\n",
       "                           validation_fraction=0.1, verbose=0,\n",
       "                           warm_start=False)"
      ]
     },
     "execution_count": 650,
     "metadata": {},
     "output_type": "execute_result"
    }
   ],
   "source": [
    "cls.fit(X_train, y_train)"
   ]
  },
  {
   "cell_type": "code",
   "execution_count": 651,
   "metadata": {},
   "outputs": [
    {
     "data": {
      "text/plain": [
       "0.99875"
      ]
     },
     "execution_count": 651,
     "metadata": {},
     "output_type": "execute_result"
    }
   ],
   "source": [
    "cls.score(X_train, y_train)"
   ]
  },
  {
   "cell_type": "code",
   "execution_count": 652,
   "metadata": {},
   "outputs": [
    {
     "data": {
      "text/plain": [
       "0.805"
      ]
     },
     "execution_count": 652,
     "metadata": {},
     "output_type": "execute_result"
    }
   ],
   "source": [
    "cls.score(X_test, y_test)"
   ]
  },
  {
   "cell_type": "code",
   "execution_count": 647,
   "metadata": {},
   "outputs": [
    {
     "data": {
      "text/plain": [
       "(200, 216)"
      ]
     },
     "execution_count": 647,
     "metadata": {},
     "output_type": "execute_result"
    }
   ],
   "source": [
    "X_test.shape"
   ]
  },
  {
   "cell_type": "markdown",
   "metadata": {},
   "source": [
    "### random forest"
   ]
  },
  {
   "cell_type": "code",
   "execution_count": 312,
   "metadata": {},
   "outputs": [],
   "source": [
    "# X_scatter = np.load('Data_scatter.npy')\n",
    "# Y = np.load('Labels_scatter.npy')"
   ]
  },
  {
   "cell_type": "code",
   "execution_count": 36,
   "metadata": {},
   "outputs": [],
   "source": [
    "import numpy as np"
   ]
  },
  {
   "cell_type": "code",
   "execution_count": 634,
   "metadata": {},
   "outputs": [],
   "source": [
    "X_data_feat = np.load('feat_data/dtcwt_34_lvl17.npy')"
   ]
  },
  {
   "cell_type": "code",
   "execution_count": 635,
   "metadata": {},
   "outputs": [
    {
     "data": {
      "text/plain": [
       "(1000, 1, 216)"
      ]
     },
     "execution_count": 635,
     "metadata": {},
     "output_type": "execute_result"
    }
   ],
   "source": [
    "X_data_feat.shape"
   ]
  },
  {
   "cell_type": "code",
   "execution_count": 636,
   "metadata": {},
   "outputs": [],
   "source": [
    "X_data_feat = np.reshape(X_data_feat, (1000, 216))"
   ]
  },
  {
   "cell_type": "code",
   "execution_count": 166,
   "metadata": {},
   "outputs": [],
   "source": [
    "import sklearn"
   ]
  },
  {
   "cell_type": "code",
   "execution_count": 244,
   "metadata": {},
   "outputs": [],
   "source": [
    "from sklearn.ensemble import RandomForestClassifier"
   ]
  },
  {
   "cell_type": "code",
   "execution_count": 629,
   "metadata": {},
   "outputs": [],
   "source": [
    "rf = RandomForestClassifier(n_estimators=4000, n_jobs=-1)"
   ]
  },
  {
   "cell_type": "code",
   "execution_count": 630,
   "metadata": {},
   "outputs": [],
   "source": [
    "# from time import time"
   ]
  },
  {
   "cell_type": "code",
   "execution_count": 631,
   "metadata": {},
   "outputs": [
    {
     "data": {
      "text/plain": [
       "RandomForestClassifier(bootstrap=True, class_weight=None, criterion='gini',\n",
       "                       max_depth=None, max_features='auto', max_leaf_nodes=None,\n",
       "                       min_impurity_decrease=0.0, min_impurity_split=None,\n",
       "                       min_samples_leaf=1, min_samples_split=2,\n",
       "                       min_weight_fraction_leaf=0.0, n_estimators=4000,\n",
       "                       n_jobs=-1, oob_score=False, random_state=None, verbose=0,\n",
       "                       warm_start=False)"
      ]
     },
     "execution_count": 631,
     "metadata": {},
     "output_type": "execute_result"
    }
   ],
   "source": [
    "# start = time()\n",
    "rf.fit(X_train, y_train)\n",
    "# end = time()"
   ]
  },
  {
   "cell_type": "code",
   "execution_count": 632,
   "metadata": {},
   "outputs": [
    {
     "data": {
      "text/plain": [
       "0.99875"
      ]
     },
     "execution_count": 632,
     "metadata": {},
     "output_type": "execute_result"
    }
   ],
   "source": [
    "rf.score(X_train, y_train)"
   ]
  },
  {
   "cell_type": "code",
   "execution_count": 633,
   "metadata": {},
   "outputs": [
    {
     "data": {
      "text/plain": [
       "0.805"
      ]
     },
     "execution_count": 633,
     "metadata": {},
     "output_type": "execute_result"
    }
   ],
   "source": [
    "rf.score(X_test, y_test)"
   ]
  },
  {
   "cell_type": "markdown",
   "metadata": {},
   "source": [
    "## using PCA to reduce number dimensions"
   ]
  },
  {
   "cell_type": "code",
   "execution_count": 122,
   "metadata": {},
   "outputs": [],
   "source": [
    "from sklearn.decomposition import PCA"
   ]
  },
  {
   "cell_type": "code",
   "execution_count": 123,
   "metadata": {},
   "outputs": [],
   "source": [
    "pca = PCA(n_components=20)"
   ]
  },
  {
   "cell_type": "code",
   "execution_count": 124,
   "metadata": {},
   "outputs": [],
   "source": [
    "X_train_pca = pca.fit_transform(X_train)"
   ]
  },
  {
   "cell_type": "code",
   "execution_count": 125,
   "metadata": {},
   "outputs": [],
   "source": [
    "X_test_pca = pca.transform(X_test)"
   ]
  },
  {
   "cell_type": "code",
   "execution_count": 126,
   "metadata": {},
   "outputs": [
    {
     "name": "stdout",
     "output_type": "stream",
     "text": [
      "Training accuracy: 0.99875\n",
      "Test accuracy: 0.565\n"
     ]
    }
   ],
   "source": [
    "cls = GradientBoostingClassifier(n_estimators=2000)\n",
    "cls.fit(X_train_pca, y_train)\n",
    "print('Training accuracy: ' + str(cls.score(X_train_pca, y_train)))\n",
    "print('Test accuracy: ' + str(cls.score(X_test_pca, y_test)))"
   ]
  },
  {
   "cell_type": "code",
   "execution_count": null,
   "metadata": {},
   "outputs": [],
   "source": [
    "X_data_array.shape"
   ]
  },
  {
   "cell_type": "markdown",
   "metadata": {},
   "source": [
    "# Wavelet transform method"
   ]
  },
  {
   "cell_type": "code",
   "execution_count": 31,
   "metadata": {},
   "outputs": [],
   "source": [
    "import pywt"
   ]
  },
  {
   "cell_type": "code",
   "execution_count": null,
   "metadata": {},
   "outputs": [],
   "source": [
    "f = tf.extractfile(wav_names[100])\n",
    "d, fs = librosa.load(f)"
   ]
  },
  {
   "cell_type": "code",
   "execution_count": 32,
   "metadata": {},
   "outputs": [],
   "source": [
    "list_coeff = pywt.wavedec(d, 'db4')"
   ]
  },
  {
   "cell_type": "code",
   "execution_count": 42,
   "metadata": {},
   "outputs": [
    {
     "data": {
      "text/plain": [
       "165453"
      ]
     },
     "execution_count": 42,
     "metadata": {},
     "output_type": "execute_result"
    }
   ],
   "source": [
    "len(list_coeff[-2])"
   ]
  },
  {
   "cell_type": "code",
   "execution_count": 39,
   "metadata": {},
   "outputs": [],
   "source": [
    "temp = []\n",
    "for list in list_coeff:\n",
    "    temp.extend(list)"
   ]
  },
  {
   "cell_type": "code",
   "execution_count": 40,
   "metadata": {},
   "outputs": [
    {
     "data": {
      "text/plain": [
       "661899"
      ]
     },
     "execution_count": 40,
     "metadata": {},
     "output_type": "execute_result"
    }
   ],
   "source": [
    "len(temp)"
   ]
  },
  {
   "cell_type": "code",
   "execution_count": null,
   "metadata": {},
   "outputs": [],
   "source": [
    "coeff = list_coeff[0]\n",
    "entropy = stat.entropy(coeff)"
   ]
  },
  {
   "cell_type": "code",
   "execution_count": 55,
   "metadata": {},
   "outputs": [],
   "source": [
    "from collections import Counter\n",
    "import scipy\n",
    "\n",
    "def calculate_entropy(list_values):\n",
    "    counter_values = Counter(list_values).most_common()\n",
    "    probabilities = [elem[1]/len(list_values) for elem in counter_values]\n",
    "    entropy=scipy.stats.entropy(probabilities)\n",
    "    return entropy\n",
    "def calculate_statistics(list_values):\n",
    "    n5 = np.nanpercentile(list_values, 5)\n",
    "    n25 = np.nanpercentile(list_values, 25)\n",
    "    n75 = np.nanpercentile(list_values, 75)\n",
    "    n95 = np.nanpercentile(list_values, 95)\n",
    "    median = np.nanpercentile(list_values, 50)\n",
    "    mean = np.nanmean(list_values)\n",
    "    std = np.nanstd(list_values)\n",
    "    var = np.nanvar(list_values)\n",
    "    rms = np.nanmean(np.sqrt(list_values**2))\n",
    "    return [n5, n25, n75, n95, median, mean, std, var, rms]\n",
    "def calculate_crossings(list_values):\n",
    "    zero_crossing_indices = np.nonzero(np.diff(np.array(list_values) > 0))[0]\n",
    "    no_zero_crossings = len(zero_crossing_indices)\n",
    "    mean_crossing_indices = np.nonzero(np.diff(np.array(list_values) > np.nanmean(list_values)))[0]\n",
    "    no_mean_crossings = len(mean_crossing_indices)\n",
    "    return [no_zero_crossings, no_mean_crossings]\n",
    "def get_features(list_values):\n",
    "    entropy = calculate_entropy(list_values)\n",
    "    crossings = calculate_crossings(list_values)\n",
    "    statistics = calculate_statistics(list_values)\n",
    "    return [entropy] + crossings + statistics"
   ]
  },
  {
   "cell_type": "code",
   "execution_count": null,
   "metadata": {},
   "outputs": [],
   "source": [
    "wavelet_name = 'db4'\n",
    "X_data = []\n",
    "for i in tqdm(range(20)):\n",
    "    f = tf.extractfile(wav_names[i])\n",
    "    d, fs = librosa.load(f)\n",
    "    list_coeff = pywt.wavedec(d, wavelet_name)\n",
    "    features = []\n",
    "    for coeff in list_coeff:\n",
    "        features += get_features(coeff)\n",
    "    X_data.append(features)\n",
    "X_data_array = np.array(X_data)"
   ]
  },
  {
   "cell_type": "code",
   "execution_count": null,
   "metadata": {},
   "outputs": [],
   "source": [
    "X_data_array.shape"
   ]
  },
  {
   "cell_type": "code",
   "execution_count": null,
   "metadata": {},
   "outputs": [],
   "source": [
    "def dwt_feat_ext(wav_names):\n",
    "    wavelet_name = 'db4'\n",
    "    X_data = []\n",
    "    for wav_name in wav_names:\n",
    "        f = tf.extractfile(wav_name)\n",
    "        d, fs = librosa.load(f)\n",
    "        list_coeff = pywt.wavedec(d, wavelet_name)\n",
    "        features = []\n",
    "        for coeff in list_coeff:\n",
    "            features += get_features(coeff)\n",
    "        X_data.append(features)\n",
    "    X_data_array = np.array(X_data)\n",
    "    return X_data_array"
   ]
  },
  {
   "cell_type": "code",
   "execution_count": null,
   "metadata": {},
   "outputs": [],
   "source": [
    "def dwt_feat_ext_mod(wav_name):\n",
    "    wavelet_name = 'db4'\n",
    "    X_data = []\n",
    "#     for wav_name in wav_names:\n",
    "    f = tf.extractfile(wav_name)\n",
    "    d, fs = librosa.load(f)\n",
    "    list_coeff = pywt.wavedec(d, wavelet_name)\n",
    "    features = []\n",
    "    for coeff in list_coeff:\n",
    "        features += get_features(coeff)\n",
    "    X_data.append(features)\n",
    "#     X_data_array = np.array(X_data)\n",
    "    return X_data"
   ]
  },
  {
   "cell_type": "code",
   "execution_count": null,
   "metadata": {},
   "outputs": [],
   "source": [
    "wav_names1 = wav_names[:100]"
   ]
  },
  {
   "cell_type": "code",
   "execution_count": null,
   "metadata": {},
   "outputs": [],
   "source": [
    "len(wav_names1)"
   ]
  },
  {
   "cell_type": "code",
   "execution_count": null,
   "metadata": {},
   "outputs": [],
   "source": [
    "from time import time"
   ]
  },
  {
   "cell_type": "code",
   "execution_count": null,
   "metadata": {},
   "outputs": [],
   "source": [
    "start = time()\n",
    "X1 = dwt_feat_ext(wav_names1)\n",
    "end = time()"
   ]
  },
  {
   "cell_type": "code",
   "execution_count": null,
   "metadata": {},
   "outputs": [],
   "source": [
    "len(wav_names1)"
   ]
  },
  {
   "cell_type": "code",
   "execution_count": null,
   "metadata": {},
   "outputs": [],
   "source": [
    "end-start"
   ]
  },
  {
   "cell_type": "code",
   "execution_count": null,
   "metadata": {},
   "outputs": [],
   "source": [
    "from multiprocessing import Pool\n",
    "import multiprocessing\n",
    "# from time import time"
   ]
  },
  {
   "cell_type": "code",
   "execution_count": null,
   "metadata": {},
   "outputs": [],
   "source": [
    "# chunks = [wav_names1[i::5] for i in range(5)]"
   ]
  },
  {
   "cell_type": "code",
   "execution_count": null,
   "metadata": {},
   "outputs": [],
   "source": [
    "# def dwt_feat_ext(wav_names, wavelet_name):\n",
    "# wav_names1 = wav_names[:20]\n",
    "start = time()\n",
    "pool = Pool(multiprocessing.cpu_count())\n",
    "# chunks = [wav_names1[i::5] for i in range(5)]\n",
    "# pool = Pool(processes = 5)\n",
    "result = []\n",
    "result += [pool.apply(dwt_feat_ext_mod, args = (wav_name)) for wav_name in wav_names1]\n",
    "pool.close()\n",
    "end = time()"
   ]
  },
  {
   "cell_type": "code",
   "execution_count": null,
   "metadata": {},
   "outputs": [],
   "source": [
    "end - start"
   ]
  },
  {
   "cell_type": "code",
   "execution_count": null,
   "metadata": {},
   "outputs": [],
   "source": [
    "wavelet_name = 'db4'\n",
    "X_data = []\n",
    "for i in tqdm(range(len(wav_names))):\n",
    "    f = tf.extractfile(wav_names[i])\n",
    "    d, fs = librosa.load(f)\n",
    "    list_coeff = pywt.wavedec(d, wavelet_name)\n",
    "    features = []\n",
    "    for coeff in list_coeff:\n",
    "        features += get_features(coeff)\n",
    "    X_data.append(features)\n",
    "X_data_array = np.array(X_data)"
   ]
  },
  {
   "cell_type": "code",
   "execution_count": null,
   "metadata": {},
   "outputs": [],
   "source": [
    "X_data_array.shape"
   ]
  },
  {
   "cell_type": "code",
   "execution_count": null,
   "metadata": {},
   "outputs": [],
   "source": [
    "np.save('dwt_featurematrix', X_data_array)"
   ]
  },
  {
   "cell_type": "code",
   "execution_count": null,
   "metadata": {},
   "outputs": [],
   "source": [
    "X_data_array = np.load('dwt_featurematrix.npy')"
   ]
  },
  {
   "cell_type": "code",
   "execution_count": null,
   "metadata": {},
   "outputs": [],
   "source": [
    "X_data_array.shape"
   ]
  },
  {
   "cell_type": "code",
   "execution_count": null,
   "metadata": {},
   "outputs": [],
   "source": [
    "from sklearn.neighbors import KNeighborsClassifier"
   ]
  },
  {
   "cell_type": "code",
   "execution_count": null,
   "metadata": {},
   "outputs": [],
   "source": [
    "knn = KNeighborsClassifier(n_neighbors=10, weights='distance', p = 1)"
   ]
  },
  {
   "cell_type": "code",
   "execution_count": null,
   "metadata": {},
   "outputs": [],
   "source": [
    "knn.fit(X_train, y_train)"
   ]
  },
  {
   "cell_type": "code",
   "execution_count": null,
   "metadata": {},
   "outputs": [],
   "source": [
    "knn.score(X_train, y_train)"
   ]
  },
  {
   "cell_type": "code",
   "execution_count": null,
   "metadata": {},
   "outputs": [],
   "source": [
    "knn.score(X_test, y_test)"
   ]
  },
  {
   "cell_type": "code",
   "execution_count": null,
   "metadata": {},
   "outputs": [],
   "source": [
    "X_fft = np.load('fft_featurematrix.npy')"
   ]
  },
  {
   "cell_type": "code",
   "execution_count": null,
   "metadata": {},
   "outputs": [],
   "source": [
    "X_fft.shape"
   ]
  },
  {
   "cell_type": "markdown",
   "metadata": {},
   "source": [
    "## multiprocessing demo"
   ]
  },
  {
   "cell_type": "code",
   "execution_count": null,
   "metadata": {},
   "outputs": [],
   "source": [
    "import time\n",
    "def f(a_list):\n",
    "    out = 0\n",
    "    for n in a_list:\n",
    "        out += n*n\n",
    "        time.sleep(0.1)\n",
    "    return out"
   ]
  },
  {
   "cell_type": "code",
   "execution_count": null,
   "metadata": {},
   "outputs": [],
   "source": [
    "from multiprocessing import Pool"
   ]
  },
  {
   "cell_type": "code",
   "execution_count": null,
   "metadata": {},
   "outputs": [],
   "source": [
    "def "
   ]
  },
  {
   "cell_type": "code",
   "execution_count": null,
   "metadata": {},
   "outputs": [],
   "source": [
    "chunks = [a_list[i::12] for i in range(12)]"
   ]
  },
  {
   "cell_type": "code",
   "execution_count": null,
   "metadata": {},
   "outputs": [],
   "source": [
    "a_list = []\n",
    "for i in range(1000):\n",
    "    a_list += [i] "
   ]
  },
  {
   "cell_type": "code",
   "execution_count": null,
   "metadata": {},
   "outputs": [],
   "source": [
    "len(a_list)"
   ]
  },
  {
   "cell_type": "code",
   "execution_count": null,
   "metadata": {},
   "outputs": [],
   "source": [
    "import time\n",
    "from multiprocessing import Pool\n",
    " \n",
    "def f(a_list):\n",
    "    print(\"Here\")\n",
    "    asd=asd\n",
    "    out = 0\n",
    "    for n in a_list:\n",
    "        out += n*n\n",
    "#         time.sleep(0.1)\n",
    "    return out\n",
    "\n",
    "chunks=[1]\n",
    "with Pool(processes=4) as pool:\n",
    "        result = pool.map_async(f, chunks)\n",
    "        result = result.get() "
   ]
  },
  {
   "cell_type": "code",
   "execution_count": null,
   "metadata": {},
   "outputs": [],
   "source": [
    "def f_amp(a_list):\n",
    "    chunks = [a_list[i::12] for i in range(12)]\n",
    "    \n",
    "    with Pool(processes=12) as pool:\n",
    "        result = pool.map_async(f, chunks)\n",
    "        result = result.get()\n",
    "    return result        \n",
    "# while not result.ready():\n",
    "#     print(\"Running...\")\n",
    "#     time.sleep(0.5)\n",
    "\n",
    "# return sum(result.get())"
   ]
  },
  {
   "cell_type": "code",
   "execution_count": null,
   "metadata": {},
   "outputs": [],
   "source": [
    "# start = time1()\n",
    "f_amp(a_list)\n",
    "# end = time1()"
   ]
  },
  {
   "cell_type": "code",
   "execution_count": null,
   "metadata": {},
   "outputs": [],
   "source": [
    "import time"
   ]
  },
  {
   "cell_type": "code",
   "execution_count": null,
   "metadata": {},
   "outputs": [],
   "source": [
    "from time import time as time1"
   ]
  },
  {
   "cell_type": "code",
   "execution_count": null,
   "metadata": {},
   "outputs": [],
   "source": [
    "start = time1()\n",
    "print(f(a_list))\n",
    "end = time1()"
   ]
  },
  {
   "cell_type": "code",
   "execution_count": null,
   "metadata": {},
   "outputs": [],
   "source": [
    "end-start"
   ]
  },
  {
   "cell_type": "code",
   "execution_count": null,
   "metadata": {
    "scrolled": true
   },
   "outputs": [],
   "source": [
    "start = time1()\n",
    "print(f_amp(a_list))\n",
    "end = time1()"
   ]
  },
  {
   "cell_type": "code",
   "execution_count": null,
   "metadata": {},
   "outputs": [],
   "source": [
    "import multiprocessing"
   ]
  },
  {
   "cell_type": "code",
   "execution_count": null,
   "metadata": {},
   "outputs": [],
   "source": [
    "multiprocessing.cpu_count()"
   ]
  },
  {
   "cell_type": "code",
   "execution_count": null,
   "metadata": {},
   "outputs": [],
   "source": [
    "import psutil"
   ]
  },
  {
   "cell_type": "code",
   "execution_count": null,
   "metadata": {},
   "outputs": [],
   "source": [
    "len(psutil.Process().cpu_affinity())"
   ]
  },
  {
   "cell_type": "code",
   "execution_count": null,
   "metadata": {},
   "outputs": [],
   "source": [
    "num_cpus"
   ]
  },
  {
   "cell_type": "markdown",
   "metadata": {},
   "source": [
    "================================================================================================================="
   ]
  },
  {
   "cell_type": "code",
   "execution_count": null,
   "metadata": {},
   "outputs": [],
   "source": [
    "import numpy as np\n",
    "from time import time\n",
    "\n",
    "# Prepare data\n",
    "np.random.RandomState(100)\n",
    "arr = np.random.randint(0, 10, size=[200000, 5])\n",
    "data = arr.tolist()\n",
    "data[:5]"
   ]
  },
  {
   "cell_type": "code",
   "execution_count": null,
   "metadata": {},
   "outputs": [],
   "source": [
    "len(data[0])"
   ]
  },
  {
   "cell_type": "code",
   "execution_count": null,
   "metadata": {},
   "outputs": [],
   "source": [
    "def howmany_within_range(row, minimum, maximum):\n",
    "    \"\"\"Returns how many numbers lie within `maximum` and `minimum` in a given `row`\"\"\"\n",
    "    count = 0\n",
    "    for n in row:\n",
    "        if minimum <= n <= maximum:\n",
    "            count = count + 1\n",
    "    return count"
   ]
  },
  {
   "cell_type": "code",
   "execution_count": null,
   "metadata": {},
   "outputs": [],
   "source": [
    "from time import time"
   ]
  },
  {
   "cell_type": "code",
   "execution_count": null,
   "metadata": {},
   "outputs": [],
   "source": [
    "results = []\n",
    "start = time()\n",
    "for row in data:\n",
    "    results.append(howmany_within_range(row, minimum=4, maximum=8))\n",
    "end = time()"
   ]
  },
  {
   "cell_type": "code",
   "execution_count": null,
   "metadata": {},
   "outputs": [],
   "source": [
    "end-start"
   ]
  },
  {
   "cell_type": "code",
   "execution_count": null,
   "metadata": {},
   "outputs": [],
   "source": [
    "print(results[:10])"
   ]
  },
  {
   "cell_type": "code",
   "execution_count": null,
   "metadata": {},
   "outputs": [],
   "source": [
    "import multiprocessing as mp\n",
    "\n",
    "# Step 1: Init multiprocessing.Pool()\n",
    "pool = mp.Pool(mp.cpu_count())\n",
    "\n",
    "# Step 2: `pool.apply` the `howmany_within_range()`\n",
    "results = [pool.apply(howmany_within_range, args=(row, 4, 8)) for row in data]\n",
    "\n",
    "# Step 3: Don't forget to close\n",
    "pool.close()    "
   ]
  },
  {
   "cell_type": "code",
   "execution_count": 2,
   "metadata": {},
   "outputs": [
    {
     "name": "stdout",
     "output_type": "stream",
     "text": [
      "Worker: 0\n",
      "Worker: 1\n",
      "Worker: 2\n",
      "Worker: 3\n",
      "Worker: 4\n"
     ]
    }
   ],
   "source": [
    "import threading\n",
    "def worker(num):\n",
    "    \"\"\"thread worker function\"\"\"\n",
    "    print( 'Worker: %s' % num)\n",
    "    return\n",
    "threads = []\n",
    "for i in range(5):\n",
    "    t = threading.Thread(target=worker, args=(i,))\n",
    "    threads.append(t)\n",
    "    t.start()"
   ]
  },
  {
   "cell_type": "code",
   "execution_count": 9,
   "metadata": {},
   "outputs": [],
   "source": [
    "wav_names1 = wav_names[0]"
   ]
  },
  {
   "cell_type": "code",
   "execution_count": 6,
   "metadata": {},
   "outputs": [],
   "source": [
    "import pywt\n",
    "import numpy as np\n",
    "def dwt_feat_ext(wav_name):\n",
    "    wavelet_name = 'db4'\n",
    "    X_data = []\n",
    "    #     for wav_name in wav_names:\n",
    "    f = tf.extractfile(wav_name)\n",
    "    d, fs = librosa.load(f)\n",
    "    list_coeff = pywt.wavedec(d, wavelet_name)\n",
    "    features = []\n",
    "    for coeff in list_coeff:\n",
    "        features += get_features(coeff)\n",
    "    X_data.append(features)\n",
    "    #     X_data_array = np.array(X_data)\n",
    "    return X_data"
   ]
  },
  {
   "cell_type": "code",
   "execution_count": 9,
   "metadata": {},
   "outputs": [],
   "source": [
    "temp1 = []\n",
    "for i in range(20):\n",
    "    temp1 += dwt_feat_ext(wav_names[i])"
   ]
  },
  {
   "cell_type": "code",
   "execution_count": 11,
   "metadata": {},
   "outputs": [
    {
     "data": {
      "text/plain": [
       "array([[2.83321334e+00, 4.00000000e+00, 1.00000000e+00, ...,\n",
       "        2.30411850e-02, 5.30896185e-04, 1.29487189e-02],\n",
       "       [2.83321334e+00, 6.00000000e+00, 1.00000000e+00, ...,\n",
       "        1.36397425e-02, 1.86042584e-04, 8.10910109e-03],\n",
       "       [2.83321334e+00, 4.00000000e+00, 1.00000000e+00, ...,\n",
       "        2.18400173e-02, 4.76986374e-04, 1.13961380e-02],\n",
       "       ...,\n",
       "       [2.83321334e+00, 3.00000000e+00, 3.00000000e+00, ...,\n",
       "        3.37831937e-02, 1.14130427e-03, 2.37379950e-02],\n",
       "       [2.83321334e+00, 1.00000000e+00, 1.00000000e+00, ...,\n",
       "        2.72990223e-02, 7.45236583e-04, 1.78273395e-02],\n",
       "       [2.83321334e+00, 0.00000000e+00, 1.00000000e+00, ...,\n",
       "        2.46596038e-02, 6.08096016e-04, 1.66143067e-02]])"
      ]
     },
     "execution_count": 11,
     "metadata": {},
     "output_type": "execute_result"
    }
   ],
   "source": [
    "np.array(temp1)"
   ]
  },
  {
   "cell_type": "code",
   "execution_count": null,
   "metadata": {},
   "outputs": [],
   "source": []
  },
  {
   "cell_type": "code",
   "execution_count": 12,
   "metadata": {},
   "outputs": [],
   "source": [
    "import numpy as np"
   ]
  },
  {
   "cell_type": "code",
   "execution_count": 13,
   "metadata": {},
   "outputs": [],
   "source": [
    "a1 = np.load('dwt_featurematrix.npy')\n",
    "a2 = np.load('dwt_featurematrix_mp.npy')"
   ]
  },
  {
   "cell_type": "code",
   "execution_count": 14,
   "metadata": {},
   "outputs": [
    {
     "data": {
      "text/plain": [
       "False"
      ]
     },
     "execution_count": 14,
     "metadata": {},
     "output_type": "execute_result"
    }
   ],
   "source": [
    "np.allclose(a1, a2)"
   ]
  },
  {
   "cell_type": "code",
   "execution_count": 15,
   "metadata": {},
   "outputs": [
    {
     "data": {
      "text/plain": [
       "(1000, 204)"
      ]
     },
     "execution_count": 15,
     "metadata": {},
     "output_type": "execute_result"
    }
   ],
   "source": [
    "a1.shape"
   ]
  },
  {
   "cell_type": "code",
   "execution_count": 17,
   "metadata": {},
   "outputs": [],
   "source": [
    "a2_re = np.reshape(a2, a1.shape)"
   ]
  },
  {
   "cell_type": "code",
   "execution_count": 18,
   "metadata": {},
   "outputs": [
    {
     "data": {
      "text/plain": [
       "(1000, 204)"
      ]
     },
     "execution_count": 18,
     "metadata": {},
     "output_type": "execute_result"
    }
   ],
   "source": [
    "a2_re.shape"
   ]
  },
  {
   "cell_type": "code",
   "execution_count": 19,
   "metadata": {},
   "outputs": [
    {
     "data": {
      "text/plain": [
       "True"
      ]
     },
     "execution_count": 19,
     "metadata": {},
     "output_type": "execute_result"
    }
   ],
   "source": [
    "np.allclose(a1, a2_re)"
   ]
  },
  {
   "cell_type": "code",
   "execution_count": 20,
   "metadata": {},
   "outputs": [],
   "source": [
    "import torch"
   ]
  },
  {
   "cell_type": "code",
   "execution_count": 21,
   "metadata": {},
   "outputs": [
    {
     "data": {
      "text/plain": [
       "True"
      ]
     },
     "execution_count": 21,
     "metadata": {},
     "output_type": "execute_result"
    }
   ],
   "source": [
    "torch.cuda.is_available()"
   ]
  },
  {
   "cell_type": "code",
   "execution_count": 23,
   "metadata": {},
   "outputs": [
    {
     "data": {
      "text/plain": [
       "'GeForce GTX 1650'"
      ]
     },
     "execution_count": 23,
     "metadata": {},
     "output_type": "execute_result"
    }
   ],
   "source": [
    "torch.cuda.get_device_name()"
   ]
  },
  {
   "cell_type": "code",
   "execution_count": 9,
   "metadata": {},
   "outputs": [],
   "source": [
    "import torch"
   ]
  },
  {
   "cell_type": "code",
   "execution_count": 7,
   "metadata": {},
   "outputs": [],
   "source": [
    "wav_name = wav_names[0]"
   ]
  },
  {
   "cell_type": "code",
   "execution_count": 10,
   "metadata": {},
   "outputs": [],
   "source": [
    "import pywt\n",
    "wavelet_name = 'db38'\n",
    "X_data = []\n",
    "f = tf.extractfile(wav_name)\n",
    "d, fs = librosa.load(f)\n",
    "list_coeff = pywt.wavedec(d, wavelet_name)"
   ]
  },
  {
   "cell_type": "markdown",
   "metadata": {},
   "source": [
    "## DTCWT"
   ]
  },
  {
   "cell_type": "code",
   "execution_count": 26,
   "metadata": {},
   "outputs": [],
   "source": [
    "f = tf.extractfile(wav_names[100])\n",
    "d, fs = librosa.load(f)"
   ]
  },
  {
   "cell_type": "code",
   "execution_count": 27,
   "metadata": {},
   "outputs": [],
   "source": [
    "import dtcwt"
   ]
  },
  {
   "cell_type": "code",
   "execution_count": 28,
   "metadata": {},
   "outputs": [],
   "source": [
    "trans = dtcwt.Transform1d(biort='antonini', qshift='qshift_b_bp')"
   ]
  },
  {
   "cell_type": "code",
   "execution_count": 35,
   "metadata": {},
   "outputs": [
    {
     "ename": "ValueError",
     "evalue": "too many values to unpack (expected 8)",
     "output_type": "error",
     "traceback": [
      "\u001b[1;31m---------------------------------------------------------------------------\u001b[0m",
      "\u001b[1;31mValueError\u001b[0m                                Traceback (most recent call last)",
      "\u001b[1;32m<ipython-input-35-7cde48a139f3>\u001b[0m in \u001b[0;36m<module>\u001b[1;34m\u001b[0m\n\u001b[1;32m----> 1\u001b[1;33m \u001b[0mtrans\u001b[0m\u001b[1;33m.\u001b[0m\u001b[0mforward\u001b[0m\u001b[1;33m(\u001b[0m\u001b[0md\u001b[0m\u001b[1;33m,\u001b[0m \u001b[0mnlevels\u001b[0m\u001b[1;33m=\u001b[0m\u001b[1;36m2\u001b[0m\u001b[1;33m)\u001b[0m\u001b[1;33m\u001b[0m\u001b[1;33m\u001b[0m\u001b[0m\n\u001b[0m",
      "\u001b[1;32m~\\AppData\\Local\\Continuum\\anaconda3\\lib\\site-packages\\dtcwt\\numpy\\transform1d.py\u001b[0m in \u001b[0;36mforward\u001b[1;34m(self, X, nlevels, include_scale)\u001b[0m\n\u001b[0;32m     61\u001b[0m         \u001b[1;31m# Try to load coefficients if qshift is a string parameter\u001b[0m\u001b[1;33m\u001b[0m\u001b[1;33m\u001b[0m\u001b[1;33m\u001b[0m\u001b[0m\n\u001b[0;32m     62\u001b[0m         \u001b[1;32mtry\u001b[0m\u001b[1;33m:\u001b[0m\u001b[1;33m\u001b[0m\u001b[1;33m\u001b[0m\u001b[0m\n\u001b[1;32m---> 63\u001b[1;33m             \u001b[0mh0a\u001b[0m\u001b[1;33m,\u001b[0m \u001b[0mh0b\u001b[0m\u001b[1;33m,\u001b[0m \u001b[0mg0a\u001b[0m\u001b[1;33m,\u001b[0m \u001b[0mg0b\u001b[0m\u001b[1;33m,\u001b[0m \u001b[0mh1a\u001b[0m\u001b[1;33m,\u001b[0m \u001b[0mh1b\u001b[0m\u001b[1;33m,\u001b[0m \u001b[0mg1a\u001b[0m\u001b[1;33m,\u001b[0m \u001b[0mg1b\u001b[0m \u001b[1;33m=\u001b[0m \u001b[0m_qshift\u001b[0m\u001b[1;33m(\u001b[0m\u001b[0mqshift\u001b[0m\u001b[1;33m)\u001b[0m\u001b[1;33m\u001b[0m\u001b[1;33m\u001b[0m\u001b[0m\n\u001b[0m\u001b[0;32m     64\u001b[0m         \u001b[1;32mexcept\u001b[0m \u001b[0mTypeError\u001b[0m\u001b[1;33m:\u001b[0m\u001b[1;33m\u001b[0m\u001b[1;33m\u001b[0m\u001b[0m\n\u001b[0;32m     65\u001b[0m             \u001b[0mh0a\u001b[0m\u001b[1;33m,\u001b[0m \u001b[0mh0b\u001b[0m\u001b[1;33m,\u001b[0m \u001b[0mg0a\u001b[0m\u001b[1;33m,\u001b[0m \u001b[0mg0b\u001b[0m\u001b[1;33m,\u001b[0m \u001b[0mh1a\u001b[0m\u001b[1;33m,\u001b[0m \u001b[0mh1b\u001b[0m\u001b[1;33m,\u001b[0m \u001b[0mg1a\u001b[0m\u001b[1;33m,\u001b[0m \u001b[0mg1b\u001b[0m \u001b[1;33m=\u001b[0m \u001b[0mqshift\u001b[0m\u001b[1;33m\u001b[0m\u001b[1;33m\u001b[0m\u001b[0m\n",
      "\u001b[1;31mValueError\u001b[0m: too many values to unpack (expected 8)"
     ]
    }
   ],
   "source": [
    "trans.forward(d, nlevels=2)"
   ]
  },
  {
   "cell_type": "code",
   "execution_count": 79,
   "metadata": {},
   "outputs": [],
   "source": [
    "import numpy as np"
   ]
  },
  {
   "cell_type": "code",
   "execution_count": 80,
   "metadata": {},
   "outputs": [
    {
     "data": {
      "text/plain": [
       "array([[ 0.15782192],\n",
       "       [ 0.11432975],\n",
       "       [-0.28456607],\n",
       "       [-0.7313384 ]], dtype=float32)"
      ]
     },
     "execution_count": 80,
     "metadata": {},
     "output_type": "execute_result"
    }
   ],
   "source": [
    "forw.lowpass"
   ]
  },
  {
   "cell_type": "code",
   "execution_count": 81,
   "metadata": {},
   "outputs": [
    {
     "name": "stdout",
     "output_type": "stream",
     "text": [
      "(330897, 1)\n",
      "(165449, 1)\n",
      "(82725, 1)\n",
      "(41363, 1)\n",
      "(20682, 1)\n",
      "(10341, 1)\n",
      "(5171, 1)\n",
      "(2586, 1)\n",
      "(1293, 1)\n",
      "(647, 1)\n",
      "(324, 1)\n",
      "(162, 1)\n",
      "(81, 1)\n",
      "(41, 1)\n",
      "(21, 1)\n",
      "(11, 1)\n",
      "(6, 1)\n",
      "(3, 1)\n",
      "(2, 1)\n"
     ]
    }
   ],
   "source": [
    "for coeff in forw.highpasses:\n",
    "    print(coeff.shape)"
   ]
  },
  {
   "cell_type": "code",
   "execution_count": 68,
   "metadata": {},
   "outputs": [],
   "source": [
    "import pywt\n",
    "list_coeff = pywt.wavedec(d, 'db4')"
   ]
  },
  {
   "cell_type": "code",
   "execution_count": 69,
   "metadata": {},
   "outputs": [
    {
     "name": "stdout",
     "output_type": "stream",
     "text": [
      "(17,)\n",
      "(17,)\n",
      "(27,)\n",
      "(47,)\n",
      "(87,)\n",
      "(168,)\n",
      "(330,)\n",
      "(653,)\n",
      "(1299,)\n",
      "(2592,)\n",
      "(5177,)\n",
      "(10347,)\n",
      "(20687,)\n",
      "(41368,)\n",
      "(82730,)\n",
      "(165453,)\n",
      "(330900,)\n"
     ]
    }
   ],
   "source": [
    "for coeff in list_coeff:\n",
    "    print(coeff.shape)"
   ]
  },
  {
   "cell_type": "code",
   "execution_count": null,
   "metadata": {},
   "outputs": [],
   "source": []
  },
  {
   "cell_type": "code",
   "execution_count": 107,
   "metadata": {},
   "outputs": [],
   "source": [
    "from tqdm import tqdm"
   ]
  },
  {
   "cell_type": "code",
   "execution_count": 57,
   "metadata": {},
   "outputs": [],
   "source": [
    "wavelet_name = 'db4'\n",
    "X_data = []\n",
    "trans = dtcwt.Transform1d()\n",
    "# for i in tqdm(range(len(wav_names))):\n",
    "f = tf.extractfile(wav_names[100])\n",
    "d, fs = librosa.load(f)\n",
    "forw = trans.forward(d, nlevels=17)\n",
    "# list_coeff = pywt.wavedec(d, wavelet_name)\n",
    "features = []\n",
    "# i = 0\n",
    "for coeff in forw.highpasses:\n",
    "#     i += 1\n",
    "    temp = ((coeff.squeeze()))\n",
    "    features += get_features(temp)\n",
    "#     print(i)\n",
    "features += get_features(forw.lowpass.squeeze())\n",
    "# print('dfkusdhfksfh')\n",
    "X_data.append(features)\n",
    "# X_data_array = np.array(X_data)"
   ]
  },
  {
   "cell_type": "code",
   "execution_count": 59,
   "metadata": {},
   "outputs": [],
   "source": [
    "X_data_array = np.array(X_data)"
   ]
  },
  {
   "cell_type": "code",
   "execution_count": 105,
   "metadata": {},
   "outputs": [
    {
     "data": {
      "text/plain": [
       "(1, 216)"
      ]
     },
     "execution_count": 105,
     "metadata": {},
     "output_type": "execute_result"
    }
   ],
   "source": [
    "X_data_array.shape"
   ]
  },
  {
   "cell_type": "code",
   "execution_count": 95,
   "metadata": {},
   "outputs": [
    {
     "data": {
      "text/plain": [
       "array([0.05461616, 0.01252025, 0.00568706, 0.02606874, 0.07664759,\n",
       "       0.31671882], dtype=float32)"
      ]
     },
     "execution_count": 95,
     "metadata": {},
     "output_type": "execute_result"
    }
   ],
   "source": [
    "temp"
   ]
  },
  {
   "cell_type": "code",
   "execution_count": 87,
   "metadata": {},
   "outputs": [
    {
     "data": {
      "text/plain": [
       "array([1.52548544e-04, 1.73665578e-04, 4.94622906e-04, ...,\n",
       "       1.34843133e-05, 3.31382053e-05, 3.23852094e-05])"
      ]
     },
     "execution_count": 87,
     "metadata": {},
     "output_type": "execute_result"
    }
   ],
   "source": [
    "np.absolute(temp)**2"
   ]
  },
  {
   "cell_type": "code",
   "execution_count": 88,
   "metadata": {},
   "outputs": [],
   "source": [
    "rms = np.nanmean(np.sqrt(np.absolute(temp)**2))"
   ]
  },
  {
   "cell_type": "code",
   "execution_count": 124,
   "metadata": {},
   "outputs": [
    {
     "ename": "TypeError",
     "evalue": "biort() missing 1 required positional argument: 'name'",
     "output_type": "error",
     "traceback": [
      "\u001b[1;31m---------------------------------------------------------------------------\u001b[0m",
      "\u001b[1;31mTypeError\u001b[0m                                 Traceback (most recent call last)",
      "\u001b[1;32m<ipython-input-124-15810ecf26cf>\u001b[0m in \u001b[0;36m<module>\u001b[1;34m\u001b[0m\n\u001b[1;32m----> 1\u001b[1;33m \u001b[0mdtcwt\u001b[0m\u001b[1;33m.\u001b[0m\u001b[0mcoeffs\u001b[0m\u001b[1;33m.\u001b[0m\u001b[0mbiort\u001b[0m\u001b[1;33m(\u001b[0m\u001b[1;33m)\u001b[0m\u001b[1;33m\u001b[0m\u001b[1;33m\u001b[0m\u001b[0m\n\u001b[0m",
      "\u001b[1;31mTypeError\u001b[0m: biort() missing 1 required positional argument: 'name'"
     ]
    }
   ],
   "source": [
    "dtcwt.coeffs.biort()"
   ]
  },
  {
   "cell_type": "markdown",
   "metadata": {},
   "source": [
    "### Wavelet packets"
   ]
  },
  {
   "cell_type": "code",
   "execution_count": 228,
   "metadata": {},
   "outputs": [],
   "source": [
    "f = tf.extractfile(wav_names[100])\n",
    "d, fs = librosa.load(f)"
   ]
  },
  {
   "cell_type": "code",
   "execution_count": 229,
   "metadata": {},
   "outputs": [],
   "source": [
    "import pywt"
   ]
  },
  {
   "cell_type": "code",
   "execution_count": 237,
   "metadata": {},
   "outputs": [
    {
     "data": {
      "text/plain": [
       "array([ 0.01037598,  0.00775146,  0.03887939, ..., -0.06652832,\n",
       "       -0.05062866, -0.03564453], dtype=float32)"
      ]
     },
     "execution_count": 237,
     "metadata": {},
     "output_type": "execute_result"
    }
   ],
   "source": [
    "d"
   ]
  },
  {
   "cell_type": "code",
   "execution_count": 270,
   "metadata": {},
   "outputs": [],
   "source": [
    "wp = pywt.WaveletPacket(data=d, wavelet='db4', mode= 'symmetric', maxlevel=6)"
   ]
  },
  {
   "cell_type": "code",
   "execution_count": 271,
   "metadata": {},
   "outputs": [
    {
     "data": {
      "text/plain": [
       "6"
      ]
     },
     "execution_count": 271,
     "metadata": {},
     "output_type": "execute_result"
    }
   ],
   "source": [
    "wp.maxlevel"
   ]
  },
  {
   "cell_type": "code",
   "execution_count": 272,
   "metadata": {},
   "outputs": [],
   "source": [
    "levels = wp.get_level(wp.maxlevel, order = \"freq\")"
   ]
  },
  {
   "cell_type": "code",
   "execution_count": 273,
   "metadata": {},
   "outputs": [
    {
     "data": {
      "text/plain": [
       "64"
      ]
     },
     "execution_count": 273,
     "metadata": {},
     "output_type": "execute_result"
    }
   ],
   "source": [
    "len(levels)"
   ]
  },
  {
   "cell_type": "code",
   "execution_count": 274,
   "metadata": {},
   "outputs": [],
   "source": [
    "features = []\n",
    "for node in levels:\n",
    "    data_wp = node.data\n",
    "    features.extend(get_features(data_wp))"
   ]
  },
  {
   "cell_type": "code",
   "execution_count": 275,
   "metadata": {},
   "outputs": [
    {
     "data": {
      "text/plain": [
       "768"
      ]
     },
     "execution_count": 275,
     "metadata": {},
     "output_type": "execute_result"
    }
   ],
   "source": [
    "len(features)"
   ]
  },
  {
   "cell_type": "markdown",
   "metadata": {},
   "source": [
    "### SVM"
   ]
  },
  {
   "cell_type": "code",
   "execution_count": 653,
   "metadata": {},
   "outputs": [],
   "source": [
    "from sklearn.svm import SVC"
   ]
  },
  {
   "cell_type": "code",
   "execution_count": 418,
   "metadata": {
    "scrolled": true
   },
   "outputs": [
    {
     "name": "stdout",
     "output_type": "stream",
     "text": [
      "0.54\n",
      "0.53\n",
      "0.5\n",
      "0.505\n",
      "0.485\n",
      "0.49\n",
      "0.47\n",
      "0.47\n",
      "0.47\n",
      "0.475\n",
      "0.465\n",
      "0.45\n",
      "0.485\n",
      "0.465\n",
      "0.475\n",
      "0.475\n",
      "0.48\n",
      "0.485\n",
      "0.485\n",
      "0.495\n",
      "0.49\n",
      "0.48\n",
      "0.49\n",
      "0.49\n",
      "0.475\n",
      "0.48\n",
      "0.48\n",
      "0.48\n",
      "0.48\n",
      "0.485\n",
      "0.49\n",
      "0.485\n",
      "0.485\n",
      "0.485\n",
      "0.485\n",
      "0.485\n",
      "0.485\n",
      "0.485\n",
      "0.49\n",
      "0.49\n",
      "0.485\n",
      "0.48\n",
      "0.485\n",
      "0.48\n",
      "0.475\n",
      "0.475\n",
      "0.48\n",
      "0.48\n",
      "0.48\n"
     ]
    }
   ],
   "source": [
    "for c_val in range(1, 50):\n",
    "    cls = SVC(gamma='auto', kernel='sigmoid',C = c_val)\n",
    "    cls.fit(X_train, y_train)\n",
    "    ypred = cls.predict(X_test)\n",
    "#     print(np.mean(ypred==y_test))"
   ]
  },
  {
   "cell_type": "code",
   "execution_count": 408,
   "metadata": {},
   "outputs": [
    {
     "data": {
      "text/plain": [
       "SVC(C=15, cache_size=200, class_weight=None, coef0=0.0,\n",
       "    decision_function_shape='ovr', degree=3, gamma='auto', kernel='rbf',\n",
       "    max_iter=-1, probability=False, random_state=None, shrinking=True,\n",
       "    tol=0.001, verbose=False)"
      ]
     },
     "execution_count": 408,
     "metadata": {},
     "output_type": "execute_result"
    }
   ],
   "source": [
    "cls.fit(X_train, y_train)"
   ]
  },
  {
   "cell_type": "code",
   "execution_count": 409,
   "metadata": {},
   "outputs": [
    {
     "data": {
      "text/plain": [
       "(200, 216)"
      ]
     },
     "execution_count": 409,
     "metadata": {},
     "output_type": "execute_result"
    }
   ],
   "source": [
    "X_test.shape"
   ]
  },
  {
   "cell_type": "code",
   "execution_count": 410,
   "metadata": {},
   "outputs": [],
   "source": [
    "ypred = cls.predict(X_test)"
   ]
  },
  {
   "cell_type": "code",
   "execution_count": 411,
   "metadata": {},
   "outputs": [
    {
     "data": {
      "text/plain": [
       "0.805"
      ]
     },
     "execution_count": 411,
     "metadata": {},
     "output_type": "execute_result"
    }
   ],
   "source": [
    "np.mean(ypred==y_test)"
   ]
  },
  {
   "cell_type": "code",
   "execution_count": 354,
   "metadata": {},
   "outputs": [
    {
     "data": {
      "text/plain": [
       "GradientBoostingClassifier(criterion='friedman_mse', init=None,\n",
       "                           learning_rate=0.1, loss='deviance', max_depth=3,\n",
       "                           max_features=None, max_leaf_nodes=None,\n",
       "                           min_impurity_decrease=0.0, min_impurity_split=None,\n",
       "                           min_samples_leaf=1, min_samples_split=2,\n",
       "                           min_weight_fraction_leaf=0.0, n_estimators=4000,\n",
       "                           n_iter_no_change=None, presort='auto',\n",
       "                           random_state=None, subsample=1.0, tol=0.0001,\n",
       "                           validation_fraction=0.1, verbose=0,\n",
       "                           warm_start=False)"
      ]
     },
     "execution_count": 354,
     "metadata": {},
     "output_type": "execute_result"
    }
   ],
   "source": [
    "cls = GradientBoostingClassifier(n_estimators=4000)\n",
    "cls.fit(X_train, y_train)"
   ]
  },
  {
   "cell_type": "code",
   "execution_count": 360,
   "metadata": {},
   "outputs": [
    {
     "data": {
      "text/plain": [
       "0.06"
      ]
     },
     "execution_count": 360,
     "metadata": {},
     "output_type": "execute_result"
    }
   ],
   "source": [
    "cls.score(X_test, y_test)"
   ]
  },
  {
   "cell_type": "code",
   "execution_count": 654,
   "metadata": {},
   "outputs": [],
   "source": [
    "import scipy.io as scio"
   ]
  },
  {
   "cell_type": "code",
   "execution_count": 655,
   "metadata": {},
   "outputs": [],
   "source": [
    "X_train = scio.loadmat('matlab_scatter/train_features.mat')\n",
    "X_test = scio.loadmat('matlab_scatter/test_features.mat')"
   ]
  },
  {
   "cell_type": "code",
   "execution_count": 656,
   "metadata": {},
   "outputs": [],
   "source": [
    "y_train = scio.loadmat('matlab_scatter/train_labels.mat')\n",
    "# X_test = scio.loadmat('matlab_scatter/test_features.mat')\n",
    "y_test = scio.loadmat('matlab_scatter/test_labels.mat')"
   ]
  },
  {
   "cell_type": "code",
   "execution_count": 657,
   "metadata": {},
   "outputs": [],
   "source": [
    "Y_tr = y_train['trainLabelsidx'].squeeze()\n",
    "Y_t = y_test['testLabelsidx'].squeeze()"
   ]
  },
  {
   "cell_type": "code",
   "execution_count": 658,
   "metadata": {},
   "outputs": [],
   "source": [
    "X_tr = X_train['TrainFeatures']\n",
    "# Y_tr = y_train['TrainFeatures']\n",
    "X_t = X_test['TestFeatures']\n",
    "# Y_t = y_test['TrainFeatures']"
   ]
  },
  {
   "cell_type": "code",
   "execution_count": 659,
   "metadata": {},
   "outputs": [
    {
     "data": {
      "text/plain": [
       "((25600, 341), (6400, 341), (25600,), (6400,))"
      ]
     },
     "execution_count": 659,
     "metadata": {},
     "output_type": "execute_result"
    }
   ],
   "source": [
    "X_tr.shape, X_t.shape, Y_tr.shape, Y_t.shape"
   ]
  },
  {
   "cell_type": "code",
   "execution_count": 660,
   "metadata": {},
   "outputs": [
    {
     "name": "stdout",
     "output_type": "stream",
     "text": [
      "0.87\n"
     ]
    }
   ],
   "source": [
    "cls = SVC(gamma='auto', kernel='poly')\n",
    "cls.fit(X_tr, Y_tr)\n",
    "ypred = cls.predict(X_t)\n",
    "ypred_final = []\n",
    "for i in range(0, 6400, 32):\n",
    "    temp = ypred[i:i+32]\n",
    "    counts = Counter(temp).most_common()\n",
    "    ypred_final.append(counts[0][0])\n",
    "ypred_final = np.array(ypred_final)\n",
    "#     np.save('scatter_ypred' + str(i), ypred_final)\n",
    "print(np.mean(ypred_final==Y_t_final))"
   ]
  },
  {
   "cell_type": "code",
   "execution_count": 19,
   "metadata": {},
   "outputs": [],
   "source": [
    "from sklearn.preprocessing import StandardScaler"
   ]
  },
  {
   "cell_type": "code",
   "execution_count": 20,
   "metadata": {},
   "outputs": [],
   "source": [
    "ss = StandardScaler()\n",
    "X_tr_scaled = ss.fit_transform(X_tr)"
   ]
  },
  {
   "cell_type": "code",
   "execution_count": 21,
   "metadata": {},
   "outputs": [],
   "source": [
    "X_t_scaled = ss.transform(X_t)"
   ]
  },
  {
   "cell_type": "code",
   "execution_count": null,
   "metadata": {},
   "outputs": [],
   "source": []
  },
  {
   "cell_type": "code",
   "execution_count": 19,
   "metadata": {},
   "outputs": [
    {
     "name": "stdout",
     "output_type": "stream",
     "text": [
      "11 0.87\n",
      "16 0.87\n",
      "21 0.87\n"
     ]
    },
    {
     "ename": "KeyboardInterrupt",
     "evalue": "",
     "output_type": "error",
     "traceback": [
      "\u001b[1;31m---------------------------------------------------------------------------\u001b[0m",
      "\u001b[1;31mKeyboardInterrupt\u001b[0m                         Traceback (most recent call last)",
      "\u001b[1;32m<ipython-input-19-b3ca745f4fc5>\u001b[0m in \u001b[0;36m<module>\u001b[1;34m\u001b[0m\n\u001b[0;32m      1\u001b[0m \u001b[1;32mfor\u001b[0m \u001b[0mc_val\u001b[0m \u001b[1;32min\u001b[0m \u001b[0mrange\u001b[0m\u001b[1;33m(\u001b[0m\u001b[1;36m11\u001b[0m\u001b[1;33m,\u001b[0m \u001b[1;36m50\u001b[0m\u001b[1;33m,\u001b[0m \u001b[1;36m5\u001b[0m\u001b[1;33m)\u001b[0m\u001b[1;33m:\u001b[0m\u001b[1;33m\u001b[0m\u001b[1;33m\u001b[0m\u001b[0m\n\u001b[0;32m      2\u001b[0m     \u001b[0mcls\u001b[0m \u001b[1;33m=\u001b[0m \u001b[0mSVC\u001b[0m\u001b[1;33m(\u001b[0m\u001b[0mgamma\u001b[0m\u001b[1;33m=\u001b[0m\u001b[1;34m'auto'\u001b[0m\u001b[1;33m,\u001b[0m \u001b[0mkernel\u001b[0m\u001b[1;33m=\u001b[0m\u001b[1;34m'poly'\u001b[0m\u001b[1;33m,\u001b[0m \u001b[0mC\u001b[0m \u001b[1;33m=\u001b[0m \u001b[0mc_val\u001b[0m\u001b[1;33m)\u001b[0m\u001b[1;33m\u001b[0m\u001b[1;33m\u001b[0m\u001b[0m\n\u001b[1;32m----> 3\u001b[1;33m     \u001b[0mcls\u001b[0m\u001b[1;33m.\u001b[0m\u001b[0mfit\u001b[0m\u001b[1;33m(\u001b[0m\u001b[0mX_tr\u001b[0m\u001b[1;33m,\u001b[0m \u001b[0mY_tr\u001b[0m\u001b[1;33m)\u001b[0m\u001b[1;33m\u001b[0m\u001b[1;33m\u001b[0m\u001b[0m\n\u001b[0m\u001b[0;32m      4\u001b[0m     \u001b[0mypred\u001b[0m \u001b[1;33m=\u001b[0m \u001b[0mcls\u001b[0m\u001b[1;33m.\u001b[0m\u001b[0mpredict\u001b[0m\u001b[1;33m(\u001b[0m\u001b[0mX_t\u001b[0m\u001b[1;33m)\u001b[0m\u001b[1;33m\u001b[0m\u001b[1;33m\u001b[0m\u001b[0m\n\u001b[0;32m      5\u001b[0m     \u001b[0mypred_final\u001b[0m \u001b[1;33m=\u001b[0m \u001b[1;33m[\u001b[0m\u001b[1;33m]\u001b[0m\u001b[1;33m\u001b[0m\u001b[1;33m\u001b[0m\u001b[0m\n",
      "\u001b[1;32m~\\AppData\\Local\\Continuum\\anaconda3\\lib\\site-packages\\sklearn\\svm\\base.py\u001b[0m in \u001b[0;36mfit\u001b[1;34m(self, X, y, sample_weight)\u001b[0m\n\u001b[0;32m    207\u001b[0m \u001b[1;33m\u001b[0m\u001b[0m\n\u001b[0;32m    208\u001b[0m         \u001b[0mseed\u001b[0m \u001b[1;33m=\u001b[0m \u001b[0mrnd\u001b[0m\u001b[1;33m.\u001b[0m\u001b[0mrandint\u001b[0m\u001b[1;33m(\u001b[0m\u001b[0mnp\u001b[0m\u001b[1;33m.\u001b[0m\u001b[0miinfo\u001b[0m\u001b[1;33m(\u001b[0m\u001b[1;34m'i'\u001b[0m\u001b[1;33m)\u001b[0m\u001b[1;33m.\u001b[0m\u001b[0mmax\u001b[0m\u001b[1;33m)\u001b[0m\u001b[1;33m\u001b[0m\u001b[1;33m\u001b[0m\u001b[0m\n\u001b[1;32m--> 209\u001b[1;33m         \u001b[0mfit\u001b[0m\u001b[1;33m(\u001b[0m\u001b[0mX\u001b[0m\u001b[1;33m,\u001b[0m \u001b[0my\u001b[0m\u001b[1;33m,\u001b[0m \u001b[0msample_weight\u001b[0m\u001b[1;33m,\u001b[0m \u001b[0msolver_type\u001b[0m\u001b[1;33m,\u001b[0m \u001b[0mkernel\u001b[0m\u001b[1;33m,\u001b[0m \u001b[0mrandom_seed\u001b[0m\u001b[1;33m=\u001b[0m\u001b[0mseed\u001b[0m\u001b[1;33m)\u001b[0m\u001b[1;33m\u001b[0m\u001b[1;33m\u001b[0m\u001b[0m\n\u001b[0m\u001b[0;32m    210\u001b[0m         \u001b[1;31m# see comment on the other call to np.iinfo in this file\u001b[0m\u001b[1;33m\u001b[0m\u001b[1;33m\u001b[0m\u001b[1;33m\u001b[0m\u001b[0m\n\u001b[0;32m    211\u001b[0m \u001b[1;33m\u001b[0m\u001b[0m\n",
      "\u001b[1;32m~\\AppData\\Local\\Continuum\\anaconda3\\lib\\site-packages\\sklearn\\svm\\base.py\u001b[0m in \u001b[0;36m_dense_fit\u001b[1;34m(self, X, y, sample_weight, solver_type, kernel, random_seed)\u001b[0m\n\u001b[0;32m    266\u001b[0m                 \u001b[0mcache_size\u001b[0m\u001b[1;33m=\u001b[0m\u001b[0mself\u001b[0m\u001b[1;33m.\u001b[0m\u001b[0mcache_size\u001b[0m\u001b[1;33m,\u001b[0m \u001b[0mcoef0\u001b[0m\u001b[1;33m=\u001b[0m\u001b[0mself\u001b[0m\u001b[1;33m.\u001b[0m\u001b[0mcoef0\u001b[0m\u001b[1;33m,\u001b[0m\u001b[1;33m\u001b[0m\u001b[1;33m\u001b[0m\u001b[0m\n\u001b[0;32m    267\u001b[0m                 \u001b[0mgamma\u001b[0m\u001b[1;33m=\u001b[0m\u001b[0mself\u001b[0m\u001b[1;33m.\u001b[0m\u001b[0m_gamma\u001b[0m\u001b[1;33m,\u001b[0m \u001b[0mepsilon\u001b[0m\u001b[1;33m=\u001b[0m\u001b[0mself\u001b[0m\u001b[1;33m.\u001b[0m\u001b[0mepsilon\u001b[0m\u001b[1;33m,\u001b[0m\u001b[1;33m\u001b[0m\u001b[1;33m\u001b[0m\u001b[0m\n\u001b[1;32m--> 268\u001b[1;33m                 max_iter=self.max_iter, random_seed=random_seed)\n\u001b[0m\u001b[0;32m    269\u001b[0m \u001b[1;33m\u001b[0m\u001b[0m\n\u001b[0;32m    270\u001b[0m         \u001b[0mself\u001b[0m\u001b[1;33m.\u001b[0m\u001b[0m_warn_from_fit_status\u001b[0m\u001b[1;33m(\u001b[0m\u001b[1;33m)\u001b[0m\u001b[1;33m\u001b[0m\u001b[1;33m\u001b[0m\u001b[0m\n",
      "\u001b[1;31mKeyboardInterrupt\u001b[0m: "
     ]
    }
   ],
   "source": [
    "for c_val in range(11, 50, 5):\n",
    "    cls = SVC(gamma='auto', C = c_val)\n",
    "    cls.fit(X_tr, Y_tr)\n",
    "    ypred = cls.predict(X_t)\n",
    "    ypred_final = []\n",
    "    for i in range(0, 6400, 32):\n",
    "        temp = ypred[i:i+32]\n",
    "        counts = Counter(temp).most_common()\n",
    "        ypred_final.append(counts[0][0])\n",
    "    ypred_final = np.array(ypred_final)\n",
    "#     np.save('scatter_ypred' + str(i), ypred_final)\n",
    "    print(c_val, np.mean(ypred_final==Y_t_final))"
   ]
  },
  {
   "cell_type": "code",
   "execution_count": 671,
   "metadata": {},
   "outputs": [],
   "source": [
    "result = []\n",
    "for i in range(0,6400,32):\n",
    "    for j,val in enumerate(ypred[i:i+32]):\n",
    "        if val == ypred_final[i//32]:\n",
    "            result.append(X_t[(i+j),:])\n",
    "            break\n",
    "result = np.array(result)            "
   ]
  },
  {
   "cell_type": "code",
   "execution_count": 672,
   "metadata": {},
   "outputs": [
    {
     "data": {
      "text/plain": [
       "(200, 341)"
      ]
     },
     "execution_count": 672,
     "metadata": {},
     "output_type": "execute_result"
    }
   ],
   "source": [
    "result.shape"
   ]
  },
  {
   "cell_type": "code",
   "execution_count": 716,
   "metadata": {},
   "outputs": [],
   "source": [
    "from sklearn.manifold import TSNE\n",
    "\n",
    "embed = TSNE(n_components=2, perplexity=50, n_iter=10000).fit_transform(result)"
   ]
  },
  {
   "cell_type": "code",
   "execution_count": 717,
   "metadata": {},
   "outputs": [
    {
     "data": {
      "text/plain": [
       "(200, 2)"
      ]
     },
     "execution_count": 717,
     "metadata": {},
     "output_type": "execute_result"
    }
   ],
   "source": [
    "embed.shape"
   ]
  },
  {
   "cell_type": "code",
   "execution_count": 718,
   "metadata": {},
   "outputs": [
    {
     "data": {
      "text/plain": [
       "(200,)"
      ]
     },
     "execution_count": 718,
     "metadata": {},
     "output_type": "execute_result"
    }
   ],
   "source": [
    "ypred_final.shape"
   ]
  },
  {
   "cell_type": "code",
   "execution_count": 719,
   "metadata": {},
   "outputs": [],
   "source": [
    "import matplotlib.pyplot as plt"
   ]
  },
  {
   "cell_type": "code",
   "execution_count": 720,
   "metadata": {},
   "outputs": [
    {
     "data": {
      "text/plain": [
       "<matplotlib.collections.PathCollection at 0x28f50c30b38>"
      ]
     },
     "execution_count": 720,
     "metadata": {},
     "output_type": "execute_result"
    },
    {
     "data": {
      "image/png": "[encoded data removed]",
      "text/plain": [
       "<Figure size 432x288 with 1 Axes>"
      ]
     },
     "metadata": {
      "needs_background": "light"
     },
     "output_type": "display_data"
    }
   ],
   "source": [
    "plt.figure()\n",
    "plt.scatter(embed[ypred_final==1, 0], embed[ypred_final==1, 1], color = 'b')\n",
    "plt.scatter(embed[ypred_final==2, 0], embed[ypred_final==2, 1], color = 'g')\n",
    "plt.scatter(embed[ypred_final==3, 0], embed[ypred_final==3, 1], color = 'r')\n",
    "plt.scatter(embed[ypred_final==4, 0], embed[ypred_final==4, 1], color = 'c')\n",
    "plt.scatter(embed[ypred_final==5, 0], embed[ypred_final==5, 1], color = 'm')\n",
    "plt.scatter(embed[ypred_final==6, 0], embed[ypred_final==6, 1], color = 'y')\n",
    "plt.scatter(embed[ypred_final==7, 0], embed[ypred_final==7, 1], color = 'k')\n",
    "plt.scatter(embed[ypred_final==8, 0], embed[ypred_final==8, 1], color = 'w')\n",
    "plt.scatter(embed[ypred_final==9, 0], embed[ypred_final==9, 1], color = 'darkred')\n",
    "plt.scatter(embed[ypred_final==10, 0], embed[ypred_final==10, 1], color = 'chartreuse')"
   ]
  },
  {
   "cell_type": "code",
   "execution_count": null,
   "metadata": {},
   "outputs": [],
   "source": []
  },
  {
   "cell_type": "code",
   "execution_count": 682,
   "metadata": {},
   "outputs": [],
   "source": [
    "import seaborn as sns"
   ]
  },
  {
   "cell_type": "code",
   "execution_count": 695,
   "metadata": {},
   "outputs": [
    {
     "data": {
      "text/plain": [
       "<matplotlib.axes._subplots.AxesSubplot at 0x28f4ecb2c18>"
      ]
     },
     "execution_count": 695,
     "metadata": {},
     "output_type": "execute_result"
    },
    {
     "data": {
      "image/png": "[encoded data removed]",
      "text/plain": [
       "<Figure size 432x288 with 1 Axes>"
      ]
     },
     "metadata": {
      "needs_background": "light"
     },
     "output_type": "display_data"
    }
   ],
   "source": [
    "sns.scatterplot(data = embed)"
   ]
  },
  {
   "cell_type": "code",
   "execution_count": 79,
   "metadata": {},
   "outputs": [],
   "source": [
    "cls = SVC(gamma='auto', kernel='poly', C = c_val)\n",
    "cls.fit(X_tr, Y_tr)\n",
    "ypred = cls.predict(X_t)"
   ]
  },
  {
   "cell_type": "code",
   "execution_count": 83,
   "metadata": {},
   "outputs": [
    {
     "data": {
      "text/plain": [
       "(6400,)"
      ]
     },
     "execution_count": 83,
     "metadata": {},
     "output_type": "execute_result"
    }
   ],
   "source": [
    "ypred.shape"
   ]
  },
  {
   "cell_type": "code",
   "execution_count": 62,
   "metadata": {},
   "outputs": [],
   "source": [
    "temp = ypred[:32]"
   ]
  },
  {
   "cell_type": "code",
   "execution_count": 63,
   "metadata": {},
   "outputs": [
    {
     "data": {
      "text/plain": [
       "array([6, 6, 4, 6, 3, 4, 6, 7, 4, 6, 6, 4, 6, 3, 3, 6, 6, 3, 6, 3, 3, 6,\n",
       "       6, 3, 6, 6, 3, 6, 3, 9, 6, 6], dtype=uint8)"
      ]
     },
     "execution_count": 63,
     "metadata": {},
     "output_type": "execute_result"
    }
   ],
   "source": [
    "temp"
   ]
  },
  {
   "cell_type": "code",
   "execution_count": 64,
   "metadata": {},
   "outputs": [],
   "source": [
    "counts = Counter(temp).most_common()"
   ]
  },
  {
   "cell_type": "code",
   "execution_count": 67,
   "metadata": {},
   "outputs": [
    {
     "data": {
      "text/plain": [
       "[(6, 17), (3, 9), (4, 4), (7, 1), (9, 1)]"
      ]
     },
     "execution_count": 67,
     "metadata": {},
     "output_type": "execute_result"
    }
   ],
   "source": [
    "counts"
   ]
  },
  {
   "cell_type": "code",
   "execution_count": 15,
   "metadata": {},
   "outputs": [],
   "source": [
    "from collections import Counter"
   ]
  },
  {
   "cell_type": "code",
   "execution_count": 81,
   "metadata": {},
   "outputs": [],
   "source": [
    "ypred_final = []\n",
    "for i in range(0, 6400, 32):\n",
    "    temp = ypred[i:i+32]\n",
    "    counts = Counter(temp).most_common()\n",
    "    ypred_final.append(counts[0][0])\n",
    "ypred_final = np.array(ypred_final)"
   ]
  },
  {
   "cell_type": "code",
   "execution_count": 82,
   "metadata": {},
   "outputs": [
    {
     "name": "stdout",
     "output_type": "stream",
     "text": [
      "0.87\n"
     ]
    }
   ],
   "source": [
    "print(np.mean(ypred_final==Y_t_final))"
   ]
  },
  {
   "cell_type": "code",
   "execution_count": 69,
   "metadata": {},
   "outputs": [
    {
     "data": {
      "text/plain": [
       "(200,)"
      ]
     },
     "execution_count": 69,
     "metadata": {},
     "output_type": "execute_result"
    }
   ],
   "source": [
    "ypred_final.shape"
   ]
  },
  {
   "cell_type": "code",
   "execution_count": 32,
   "metadata": {},
   "outputs": [
    {
     "data": {
      "text/plain": [
       "SVC(C=100, cache_size=200, class_weight=None, coef0=0.0,\n",
       "    decision_function_shape='ovr', degree=3, gamma='auto', kernel='poly',\n",
       "    max_iter=-1, probability=False, random_state=None, shrinking=True,\n",
       "    tol=0.001, verbose=False)"
      ]
     },
     "execution_count": 32,
     "metadata": {},
     "output_type": "execute_result"
    }
   ],
   "source": [
    "cls.fit(X_tr_scaled, Y_tr)"
   ]
  },
  {
   "cell_type": "code",
   "execution_count": 33,
   "metadata": {},
   "outputs": [],
   "source": [
    "ypred = cls.predict(X_t_scaled)"
   ]
  },
  {
   "cell_type": "code",
   "execution_count": 34,
   "metadata": {},
   "outputs": [],
   "source": [
    "# import numpy as np"
   ]
  },
  {
   "cell_type": "code",
   "execution_count": 721,
   "metadata": {},
   "outputs": [
    {
     "data": {
      "text/plain": [
       "0.70765625"
      ]
     },
     "execution_count": 721,
     "metadata": {},
     "output_type": "execute_result"
    }
   ],
   "source": [
    "np.mean(ypred==Y_t)"
   ]
  },
  {
   "cell_type": "code",
   "execution_count": 54,
   "metadata": {},
   "outputs": [
    {
     "data": {
      "text/plain": [
       "(6400,)"
      ]
     },
     "execution_count": 54,
     "metadata": {},
     "output_type": "execute_result"
    }
   ],
   "source": [
    "Y_t.shape"
   ]
  },
  {
   "cell_type": "code",
   "execution_count": 51,
   "metadata": {},
   "outputs": [
    {
     "data": {
      "text/plain": [
       "array([6, 6, 6, ..., 6, 6, 6], dtype=uint8)"
      ]
     },
     "execution_count": 51,
     "metadata": {},
     "output_type": "execute_result"
    }
   ],
   "source": [
    "Y_t"
   ]
  },
  {
   "cell_type": "code",
   "execution_count": 7,
   "metadata": {},
   "outputs": [],
   "source": [
    "Y_t_final = []\n",
    "for i in range(0, 6400, 32):\n",
    "    Y_t_final.append(Y_t[i])"
   ]
  },
  {
   "cell_type": "code",
   "execution_count": 10,
   "metadata": {},
   "outputs": [],
   "source": [
    "import numpy as np"
   ]
  },
  {
   "cell_type": "code",
   "execution_count": 11,
   "metadata": {},
   "outputs": [],
   "source": [
    "Y_t_final = np.array(Y_t_final)"
   ]
  },
  {
   "cell_type": "code",
   "execution_count": 12,
   "metadata": {},
   "outputs": [
    {
     "data": {
      "text/plain": [
       "array([ 6,  6,  8,  8,  9,  8,  6,  6,  9,  8,  4,  4,  8,  4,  4,  4,  4,\n",
       "        9,  9,  4, 10,  4,  1, 10,  1,  5,  9, 10,  5,  6,  1,  1,  9,  9,\n",
       "        1,  5,  9, 10,  4,  6,  8,  6,  2,  4,  1,  9,  6,  3,  8,  8,  3,\n",
       "        6,  3,  1,  4,  7,  6,  5,  2,  3,  3,  7,  7,  5,  3,  9,  2,  2,\n",
       "        3,  7,  7,  3, 10,  8,  4,  7,  5,  3,  7,  9,  6, 10,  1,  5,  8,\n",
       "       10,  9,  8,  1,  1,  5,  1,  5,  3,  7,  4,  6,  2,  6,  2, 10,  5,\n",
       "        8,  9, 10,  6,  7,  3,  4,  4,  7,  8,  2,  8,  4,  5,  3,  7, 10,\n",
       "       10,  1,  8, 10,  4,  1,  7,  7,  8,  2,  4,  8,  5,  2,  6,  3,  6,\n",
       "        1, 10, 10,  8,  5,  8,  5,  3,  9,  2,  2,  5, 10,  3,  7,  7,  6,\n",
       "        1,  9,  5,  6,  2,  2,  6, 10,  3,  1,  3, 10,  4,  9,  5,  1,  2,\n",
       "        1, 10,  2,  3,  7,  1,  7,  2,  4,  8, 10,  7,  3,  9,  2,  1,  3,\n",
       "        2,  2,  5,  7,  5, 10,  7,  5,  9,  9,  9,  2,  6], dtype=uint8)"
      ]
     },
     "execution_count": 12,
     "metadata": {},
     "output_type": "execute_result"
    }
   ],
   "source": [
    "Y_t_final"
   ]
  },
  {
   "cell_type": "code",
   "execution_count": 722,
   "metadata": {},
   "outputs": [
    {
     "data": {
      "text/plain": [
       "0.87"
      ]
     },
     "execution_count": 722,
     "metadata": {},
     "output_type": "execute_result"
    }
   ],
   "source": [
    "np.mean(ypred_final==Y_t_final)"
   ]
  },
  {
   "cell_type": "code",
   "execution_count": 723,
   "metadata": {},
   "outputs": [],
   "source": [
    "from sklearn.metrics import confusion_matrix"
   ]
  },
  {
   "cell_type": "code",
   "execution_count": 729,
   "metadata": {},
   "outputs": [],
   "source": [
    "conf = confusion_matrix(Y_t_final, ypred_final)"
   ]
  },
  {
   "cell_type": "code",
   "execution_count": 730,
   "metadata": {},
   "outputs": [
    {
     "data": {
      "text/plain": [
       "<matplotlib.axes._subplots.AxesSubplot at 0x290e754e358>"
      ]
     },
     "execution_count": 730,
     "metadata": {},
     "output_type": "execute_result"
    },
    {
     "data": {
      "image/png": "[encoded data removed]",
      "text/plain": [
       "<Figure size 432x288 with 2 Axes>"
      ]
     },
     "metadata": {
      "needs_background": "light"
     },
     "output_type": "display_data"
    }
   ],
   "source": [
    "sns.heatmap(conf)"
   ]
  },
  {
   "cell_type": "code",
   "execution_count": 732,
   "metadata": {},
   "outputs": [],
   "source": [
    "import pandas as pd"
   ]
  },
  {
   "cell_type": "code",
   "execution_count": 750,
   "metadata": {},
   "outputs": [
    {
     "data": {
      "image/png": "[encoded data removed]",
      "text/plain": [
       "<Figure size 432x288 with 1 Axes>"
      ]
     },
     "metadata": {},
     "output_type": "display_data"
    }
   ],
   "source": [
    "df_cm = pd.DataFrame(conf, target_names,\n",
    "                  target_names)\n",
    "#plt.figure(figsize = (10,7))\n",
    "sns.set(font_scale=1.4)#for label size\n",
    "sns.heatmap(df_cm, annot=True,annot_kws={\"size\": 16}, cbar=False)# font size\n",
    "\n",
    "# plt.show()\n",
    "plt.savefig('conf_mat.png')"
   ]
  },
  {
   "cell_type": "code",
   "execution_count": 742,
   "metadata": {},
   "outputs": [
    {
     "data": {
      "text/html": [
       "<div>\n",
       "<style scoped>\n",
       "    .dataframe tbody tr th:only-of-type {\n",
       "        vertical-align: middle;\n",
       "    }\n",
       "\n",
       "    .dataframe tbody tr th {\n",
       "        vertical-align: top;\n",
       "    }\n",
       "\n",
       "    .dataframe thead th {\n",
       "        text-align: right;\n",
       "    }\n",
       "</style>\n",
       "<table border=\"1\" class=\"dataframe\">\n",
       "  <thead>\n",
       "    <tr style=\"text-align: right;\">\n",
       "      <th></th>\n",
       "      <th>1</th>\n",
       "      <th>2</th>\n",
       "      <th>3</th>\n",
       "      <th>4</th>\n",
       "      <th>5</th>\n",
       "      <th>6</th>\n",
       "      <th>7</th>\n",
       "      <th>8</th>\n",
       "      <th>9</th>\n",
       "      <th>10</th>\n",
       "    </tr>\n",
       "  </thead>\n",
       "  <tbody>\n",
       "    <tr>\n",
       "      <th>1</th>\n",
       "      <td>20</td>\n",
       "      <td>0</td>\n",
       "      <td>0</td>\n",
       "      <td>0</td>\n",
       "      <td>0</td>\n",
       "      <td>0</td>\n",
       "      <td>0</td>\n",
       "      <td>0</td>\n",
       "      <td>0</td>\n",
       "      <td>0</td>\n",
       "    </tr>\n",
       "    <tr>\n",
       "      <th>2</th>\n",
       "      <td>0</td>\n",
       "      <td>20</td>\n",
       "      <td>0</td>\n",
       "      <td>0</td>\n",
       "      <td>0</td>\n",
       "      <td>0</td>\n",
       "      <td>0</td>\n",
       "      <td>0</td>\n",
       "      <td>0</td>\n",
       "      <td>0</td>\n",
       "    </tr>\n",
       "    <tr>\n",
       "      <th>3</th>\n",
       "      <td>2</td>\n",
       "      <td>0</td>\n",
       "      <td>17</td>\n",
       "      <td>0</td>\n",
       "      <td>0</td>\n",
       "      <td>0</td>\n",
       "      <td>0</td>\n",
       "      <td>0</td>\n",
       "      <td>0</td>\n",
       "      <td>1</td>\n",
       "    </tr>\n",
       "    <tr>\n",
       "      <th>4</th>\n",
       "      <td>0</td>\n",
       "      <td>1</td>\n",
       "      <td>0</td>\n",
       "      <td>16</td>\n",
       "      <td>2</td>\n",
       "      <td>0</td>\n",
       "      <td>0</td>\n",
       "      <td>1</td>\n",
       "      <td>0</td>\n",
       "      <td>0</td>\n",
       "    </tr>\n",
       "    <tr>\n",
       "      <th>5</th>\n",
       "      <td>0</td>\n",
       "      <td>0</td>\n",
       "      <td>1</td>\n",
       "      <td>0</td>\n",
       "      <td>17</td>\n",
       "      <td>0</td>\n",
       "      <td>2</td>\n",
       "      <td>0</td>\n",
       "      <td>0</td>\n",
       "      <td>0</td>\n",
       "    </tr>\n",
       "    <tr>\n",
       "      <th>6</th>\n",
       "      <td>0</td>\n",
       "      <td>0</td>\n",
       "      <td>1</td>\n",
       "      <td>0</td>\n",
       "      <td>0</td>\n",
       "      <td>19</td>\n",
       "      <td>0</td>\n",
       "      <td>0</td>\n",
       "      <td>0</td>\n",
       "      <td>0</td>\n",
       "    </tr>\n",
       "    <tr>\n",
       "      <th>7</th>\n",
       "      <td>0</td>\n",
       "      <td>0</td>\n",
       "      <td>0</td>\n",
       "      <td>0</td>\n",
       "      <td>0</td>\n",
       "      <td>0</td>\n",
       "      <td>20</td>\n",
       "      <td>0</td>\n",
       "      <td>0</td>\n",
       "      <td>0</td>\n",
       "    </tr>\n",
       "    <tr>\n",
       "      <th>8</th>\n",
       "      <td>0</td>\n",
       "      <td>0</td>\n",
       "      <td>2</td>\n",
       "      <td>0</td>\n",
       "      <td>0</td>\n",
       "      <td>0</td>\n",
       "      <td>0</td>\n",
       "      <td>17</td>\n",
       "      <td>1</td>\n",
       "      <td>0</td>\n",
       "    </tr>\n",
       "    <tr>\n",
       "      <th>9</th>\n",
       "      <td>0</td>\n",
       "      <td>0</td>\n",
       "      <td>2</td>\n",
       "      <td>0</td>\n",
       "      <td>1</td>\n",
       "      <td>0</td>\n",
       "      <td>0</td>\n",
       "      <td>1</td>\n",
       "      <td>16</td>\n",
       "      <td>0</td>\n",
       "    </tr>\n",
       "    <tr>\n",
       "      <th>10</th>\n",
       "      <td>0</td>\n",
       "      <td>0</td>\n",
       "      <td>2</td>\n",
       "      <td>1</td>\n",
       "      <td>0</td>\n",
       "      <td>3</td>\n",
       "      <td>0</td>\n",
       "      <td>1</td>\n",
       "      <td>1</td>\n",
       "      <td>12</td>\n",
       "    </tr>\n",
       "  </tbody>\n",
       "</table>\n",
       "</div>"
      ],
      "text/plain": [
       "    1   2   3   4   5   6   7   8   9   10\n",
       "1   20   0   0   0   0   0   0   0   0   0\n",
       "2    0  20   0   0   0   0   0   0   0   0\n",
       "3    2   0  17   0   0   0   0   0   0   1\n",
       "4    0   1   0  16   2   0   0   1   0   0\n",
       "5    0   0   1   0  17   0   2   0   0   0\n",
       "6    0   0   1   0   0  19   0   0   0   0\n",
       "7    0   0   0   0   0   0  20   0   0   0\n",
       "8    0   0   2   0   0   0   0  17   1   0\n",
       "9    0   0   2   0   1   0   0   1  16   0\n",
       "10   0   0   2   1   0   3   0   1   1  12"
      ]
     },
     "execution_count": 742,
     "metadata": {},
     "output_type": "execute_result"
    }
   ],
   "source": [
    "df_cm"
   ]
  },
  {
   "cell_type": "code",
   "execution_count": 735,
   "metadata": {},
   "outputs": [],
   "source": [
    "def plot_confusion_matrix(cm,\n",
    "                          target_names,\n",
    "                          title='Confusion matrix',\n",
    "                          cmap=None,\n",
    "                          normalize=True):\n",
    "    \"\"\"\n",
    "    given a sklearn confusion matrix (cm), make a nice plot\n",
    "\n",
    "    Arguments\n",
    "    ---------\n",
    "    cm:           confusion matrix from sklearn.metrics.confusion_matrix\n",
    "\n",
    "    target_names: given classification classes such as [0, 1, 2]\n",
    "                  the class names, for example: ['high', 'medium', 'low']\n",
    "\n",
    "    title:        the text to display at the top of the matrix\n",
    "\n",
    "    cmap:         the gradient of the values displayed from matplotlib.pyplot.cm\n",
    "                  see http://matplotlib.org/examples/color/colormaps_reference.html\n",
    "                  plt.get_cmap('jet') or plt.cm.Blues\n",
    "\n",
    "    normalize:    If False, plot the raw numbers\n",
    "                  If True, plot the proportions\n",
    "\n",
    "    Usage\n",
    "    -----\n",
    "    plot_confusion_matrix(cm           = cm,                  # confusion matrix created by\n",
    "                                                              # sklearn.metrics.confusion_matrix\n",
    "                          normalize    = True,                # show proportions\n",
    "                          target_names = y_labels_vals,       # list of names of the classes\n",
    "                          title        = best_estimator_name) # title of graph\n",
    "\n",
    "    Citiation\n",
    "    ---------\n",
    "    http://scikit-learn.org/stable/auto_examples/model_selection/plot_confusion_matrix.html\n",
    "\n",
    "    \"\"\"\n",
    "    import matplotlib.pyplot as plt\n",
    "    import numpy as np\n",
    "    import itertools\n",
    "\n",
    "    accuracy = np.trace(cm) / np.sum(cm).astype('float')\n",
    "    misclass = 1 - accuracy\n",
    "\n",
    "    if cmap is None:\n",
    "        cmap = plt.get_cmap('Blues')\n",
    "\n",
    "    plt.figure(figsize=(8, 6))\n",
    "    plt.imshow(cm, interpolation='nearest', cmap=cmap)\n",
    "    plt.title(title)\n",
    "    plt.colorbar()\n",
    "\n",
    "    if target_names is not None:\n",
    "        tick_marks = np.arange(len(target_names))\n",
    "        plt.xticks(tick_marks, target_names, rotation=45)\n",
    "        plt.yticks(tick_marks, target_names)\n",
    "\n",
    "    if normalize:\n",
    "        cm = cm.astype('float') / cm.sum(axis=1)[:, np.newaxis]\n",
    "\n",
    "\n",
    "    thresh = cm.max() / 1.5 if normalize else cm.max() / 2\n",
    "    for i, j in itertools.product(range(cm.shape[0]), range(cm.shape[1])):\n",
    "        if normalize:\n",
    "            plt.text(j, i, \"{:0.4f}\".format(cm[i, j]),\n",
    "                     horizontalalignment=\"center\",\n",
    "                     color=\"white\" if cm[i, j] > thresh else \"black\")\n",
    "        else:\n",
    "            plt.text(j, i, \"{:,}\".format(cm[i, j]),\n",
    "                     horizontalalignment=\"center\",\n",
    "                     color=\"white\" if cm[i, j] > thresh else \"black\")\n",
    "\n",
    "\n",
    "    plt.tight_layout()\n",
    "    plt.ylabel('True label')\n",
    "    plt.xlabel('Predicted label\\naccuracy={:0.4f}; misclass={:0.4f}'.format(accuracy, misclass))\n",
    "    plt.show()"
   ]
  },
  {
   "cell_type": "code",
   "execution_count": 741,
   "metadata": {},
   "outputs": [
    {
     "data": {
      "text/plain": [
       "array([[20,  0,  0,  0,  0,  0,  0,  0,  0,  0],\n",
       "       [ 0, 20,  0,  0,  0,  0,  0,  0,  0,  0],\n",
       "       [ 2,  0, 17,  0,  0,  0,  0,  0,  0,  1],\n",
       "       [ 0,  1,  0, 16,  2,  0,  0,  1,  0,  0],\n",
       "       [ 0,  0,  1,  0, 17,  0,  2,  0,  0,  0],\n",
       "       [ 0,  0,  1,  0,  0, 19,  0,  0,  0,  0],\n",
       "       [ 0,  0,  0,  0,  0,  0, 20,  0,  0,  0],\n",
       "       [ 0,  0,  2,  0,  0,  0,  0, 17,  1,  0],\n",
       "       [ 0,  0,  2,  0,  1,  0,  0,  1, 16,  0],\n",
       "       [ 0,  0,  2,  1,  0,  3,  0,  1,  1, 12]], dtype=int64)"
      ]
     },
     "execution_count": 741,
     "metadata": {},
     "output_type": "execute_result"
    }
   ],
   "source": [
    "conf"
   ]
  },
  {
   "cell_type": "code",
   "execution_count": 736,
   "metadata": {},
   "outputs": [],
   "source": [
    "target_names = ['blues', 'classical', 'country','disco', 'hiphop', 'jazz', 'metal','pop', 'reggae', 'rock']"
   ]
  }
 ],
 "metadata": {
  "kernelspec": {
   "display_name": "Python 3",
   "language": "python",
   "name": "python3"
  },
  "language_info": {
   "codemirror_mode": {
    "name": "ipython",
    "version": 3
   },
   "file_extension": ".py",
   "mimetype": "text/x-python",
   "name": "python",
   "nbconvert_exporter": "python",
   "pygments_lexer": "ipython3",
   "version": "3.6.9"
  }
 },
 "nbformat": 4,
 "nbformat_minor": 2
}
