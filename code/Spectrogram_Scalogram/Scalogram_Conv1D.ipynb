{
 "cells": [
  {
   "cell_type": "code",
   "execution_count": 1,
   "metadata": {},
   "outputs": [
    {
     "name": "stderr",
     "output_type": "stream",
     "text": [
      "Using TensorFlow backend.\n"
     ]
    }
   ],
   "source": [
    "import os\n",
    "import argparse\n",
    "import csv\n",
    "import datetime\n",
    "import glob\n",
    "import math\n",
    "import sys\n",
    "import time\n",
    "import numpy as np\n",
    "import pandas as pd\n",
    "from tqdm import tqdm\n",
    "from os.path import join\n",
    "\n",
    "from sklearn import preprocessing\n",
    "from sklearn.preprocessing import LabelEncoder\n",
    "from sklearn.metrics import accuracy_score, precision_score, recall_score, f1_score\n",
    "from sklearn.model_selection import train_test_split\n",
    "from sklearn.model_selection import StratifiedShuffleSplit\n",
    "from sklearn.utils import shuffle\n",
    "from collections import Counter\n",
    "\n",
    "import keras\n",
    "from keras.models import Sequential, Model, load_model\n",
    "from keras.layers import Input, Conv1D, Conv2D, MaxPooling1D, MaxPooling2D, Dense, Dropout, Activation, Flatten, Reshape\n",
    "from keras.layers.normalization import BatchNormalization\n",
    "from keras.optimizers import SGD\n",
    "from keras.utils import to_categorical\n",
    "from keras.preprocessing.image import ImageDataGenerator\n",
    "\n",
    "import librosa\n",
    "import kapre\n",
    "from kapre.time_frequency import Melspectrogram\n",
    "from kapre.utils import Normalization2D\n",
    "\n",
    "import matplotlib.pyplot as plt\n",
    "%matplotlib inline \n",
    "import scikitplot as skplt\n",
    "\n",
    "def generator(features, labels, batch_size):\n",
    "    while True:\n",
    "        batch_features = []\n",
    "        batch_labels = []\n",
    "        \n",
    "        for i in range(batch_size):\n",
    "            # choose random index in features\n",
    "            index = np.random.choice(len(features),1)\n",
    "            batch_features.extend(features[index])\n",
    "            batch_labels.extend(labels[index])\n",
    "        batch_features = np.array(batch_features)\n",
    "        batch_labels = np.array(batch_labels)\n",
    "        yield batch_features, batch_labels    "
   ]
  },
  {
   "cell_type": "code",
   "execution_count": null,
   "metadata": {},
   "outputs": [],
   "source": [
    "AUDIO_PATH = '../genres/'\n",
    "classes_temp = os.walk(AUDIO_PATH).__next__()[1] ## Finds the number of classes"
   ]
  },
  {
   "cell_type": "code",
   "execution_count": null,
   "metadata": {},
   "outputs": [],
   "source": [
    "load = True\n",
    "split_num = 80 ## Number of songs on train per class\n",
    "savename = \"offseti2-duration2.npy\"\n",
    "\n",
    "if load:    \n",
    "    list_data_train = np.load(\"list_data_train-\" + savename)\n",
    "    classes_train = np.load(\"classes_train-\" + savename)\n",
    "    list_data_test = np.load(\"list_data_test-\" + savename)\n",
    "    classes_test = np.load(\"classes_test-\" + savename)\n",
    "    \n",
    "else:\n",
    "    list_data = [] \n",
    "    classes = []\n",
    "    for c in tqdm(classes_temp):\n",
    "        for root, subdirs, files in os.walk(os.path.join(AUDIO_PATH, c)):\n",
    "            for file in files[:split_num]:\n",
    "                for i in range(0, 20, 2):\n",
    "                    filepath = os.path.join(root, file)    \n",
    "                    wavedata, samplerate = librosa.load(filepath, mono=True, offset=i, duration=2)    \n",
    "                    wavedata = wavedata[np.newaxis, :]\n",
    "                    list_data.append(wavedata)\n",
    "                    classes.append(c)\n",
    "\n",
    "    np.save(\"list_data_train-\" + savename, list_data)\n",
    "    np.save(\"classes_train-\" + savename, classes)\n",
    "    \n",
    "    list_data = [] \n",
    "    classes = []\n",
    "    for c in tqdm(classes_temp):\n",
    "        for root, subdirs, files in os.walk(os.path.join(AUDIO_PATH, c)):\n",
    "            for file in files[split_num:]:\n",
    "                for i in range(0, 20, 2):\n",
    "                    filepath = os.path.join(root, file)    \n",
    "                    wavedata, samplerate = librosa.load(filepath, mono=True, offset=i, duration=2)    \n",
    "                    wavedata = wavedata[np.newaxis, :]\n",
    "                    list_data.append(wavedata)\n",
    "                    classes.append(c)\n",
    "\n",
    "    np.save(\"list_data_test-\" + savename, list_data)\n",
    "    np.save(\"classes_test-\" + savename, classes)"
   ]
  },
  {
   "cell_type": "code",
   "execution_count": null,
   "metadata": {},
   "outputs": [],
   "source": [
    "print('Train Shape',list_data_train.shape)\n",
    "print('Test Shape',list_data_test.shape)"
   ]
  },
  {
   "cell_type": "code",
   "execution_count": null,
   "metadata": {},
   "outputs": [],
   "source": [
    "labelencoder = LabelEncoder()\n",
    "labelencoder.fit(classes_train)\n",
    "n_classes = len(labelencoder.classes_)\n",
    "print(n_classes, \"classes:\", \", \".join(list(labelencoder.classes_)))\n",
    "classes_num_train = labelencoder.transform(classes_train)\n",
    "classes_num_test = labelencoder.transform(classes_test)"
   ]
  },
  {
   "cell_type": "code",
   "execution_count": null,
   "metadata": {},
   "outputs": [],
   "source": [
    "classes_num_1hot = to_categorical(classes_num_train)\n",
    "print('Train classes shape:',classes_num_1hot.shape)"
   ]
  },
  {
   "cell_type": "code",
   "execution_count": null,
   "metadata": {},
   "outputs": [],
   "source": [
    "# testset_size = 0.25\n",
    "# splitter = StratifiedShuffleSplit(n_splits=1, test_size=testset_size, random_state=0)\n",
    "# splits = splitter.split(data, classes_num)"
   ]
  },
  {
   "cell_type": "code",
   "execution_count": null,
   "metadata": {},
   "outputs": [],
   "source": [
    "# for train_index, test_index in splits:\n",
    "#     print(\"TRAIN INDEX:\", train_index)\n",
    "#     print(\"TEST INDEX:\", test_index)\n",
    "    \n",
    "#     train_set = data[train_index]\n",
    "#     test_set = data[test_index]\n",
    "    \n",
    "#     train_classes = classes_num[train_index]\n",
    "#     train_classes_1hot = classes_num_1hot[train_index]\n",
    "#     test_classes = classes_num[test_index]\n",
    "\n",
    "# print(train_set.shape)\n",
    "# print(test_set.shape)"
   ]
  },
  {
   "cell_type": "code",
   "execution_count": null,
   "metadata": {},
   "outputs": [],
   "source": [
    "list_data_train, classes_num_1hot  = shuffle(list_data_train, classes_num_1hot, random_state=0)\n",
    "list_data_test, classes_num_test  = shuffle(list_data_test, classes_num_test, random_state=0)\n",
    "\n",
    "print(list_data_train.shape)\n",
    "print(list_data_test.shape)"
   ]
  },
  {
   "cell_type": "code",
   "execution_count": null,
   "metadata": {},
   "outputs": [],
   "source": [
    "cnt = Counter(classes_num_train)\n",
    "print(\"Number of files in each category in TRAIN set:\")\n",
    "for k in sorted(cnt.keys()):\n",
    "    print(k, \":\", cnt[k])"
   ]
  },
  {
   "cell_type": "code",
   "execution_count": null,
   "metadata": {},
   "outputs": [],
   "source": [
    "input_shape = list_data_train.shape[1:]  \n",
    "input_shape"
   ]
  },
  {
   "cell_type": "code",
   "execution_count": 9,
   "metadata": {},
   "outputs": [
    {
     "name": "stderr",
     "output_type": "stream",
     "text": [
      "/home/vishwasnm/anaconda3/envs/tf_gpu/lib/python3.7/site-packages/keras_preprocessing/image/image_data_generator.py:355: UserWarning: This ImageDataGenerator specifies `samplewise_std_normalization`, which overrides setting of `samplewise_center`.\n",
      "  warnings.warn('This ImageDataGenerator specifies '\n"
     ]
    },
    {
     "name": "stdout",
     "output_type": "stream",
     "text": [
      "Found 900 images belonging to 10 classes.\n",
      "Found 100 images belonging to 10 classes.\n"
     ]
    }
   ],
   "source": [
    "datagen = ImageDataGenerator(\n",
    "    samplewise_std_normalization=True)\n",
    "\n",
    "train_generator = datagen.flow_from_directory(\n",
    "        '../scalogram_genres/train/',\n",
    "        batch_size=8,\n",
    "        color_mode = 'grayscale',\n",
    "        class_mode='categorical')\n",
    "\n",
    "validation_generator = datagen.flow_from_directory(\n",
    "        '../scalogram_genres/validation/',\n",
    "        batch_size=8,\n",
    "        color_mode = 'grayscale',\n",
    "        class_mode='categorical')"
   ]
  },
  {
   "cell_type": "code",
   "execution_count": 17,
   "metadata": {},
   "outputs": [],
   "source": [
    "input_shape = (256,256,1)"
   ]
  },
  {
   "cell_type": "code",
   "execution_count": 18,
   "metadata": {},
   "outputs": [
    {
     "name": "stdout",
     "output_type": "stream",
     "text": [
      "Model: \"sequential_6\"\n",
      "_________________________________________________________________\n",
      "Layer (type)                 Output Shape              Param #   \n",
      "=================================================================\n",
      "reshape_5 (Reshape)          (None, 65536, 1)          0         \n",
      "_________________________________________________________________\n",
      "conv1d_4 (Conv1D)            (None, 65529, 32)         288       \n",
      "_________________________________________________________________\n",
      "batch_normalization_8 (Batch (None, 65529, 32)         128       \n",
      "_________________________________________________________________\n",
      "max_pooling1d_3 (MaxPooling1 (None, 16382, 32)         0         \n",
      "_________________________________________________________________\n",
      "conv1d_5 (Conv1D)            (None, 16375, 32)         8224      \n",
      "_________________________________________________________________\n",
      "batch_normalization_9 (Batch (None, 16375, 32)         128       \n",
      "_________________________________________________________________\n",
      "max_pooling1d_4 (MaxPooling1 (None, 4093, 32)          0         \n",
      "_________________________________________________________________\n",
      "flatten_3 (Flatten)          (None, 130976)            0         \n",
      "_________________________________________________________________\n",
      "dense_5 (Dense)              (None, 100)               13097700  \n",
      "_________________________________________________________________\n",
      "batch_normalization_10 (Batc (None, 100)               400       \n",
      "_________________________________________________________________\n",
      "dense_6 (Dense)              (None, 10)                1010      \n",
      "=================================================================\n",
      "Total params: 13,107,878\n",
      "Trainable params: 13,107,550\n",
      "Non-trainable params: 328\n",
      "_________________________________________________________________\n"
     ]
    }
   ],
   "source": [
    "np.random.seed(0)\n",
    "loadModel = None\n",
    "loadModel = False\n",
    "modelName = \"model1-conv1d\"\n",
    "\n",
    "if loadModel:\n",
    "    model = keras.models.load_model(modelName + \".h5\", custom_objects={'Melspectrogram':kapre.time_frequency.Melspectrogram, \n",
    "                                                                       'Normalization2D': kapre.utils.Normalization2D})\n",
    "    history = np.load(modelName + \"-history.npy\").item()\n",
    "else:\n",
    "    model = Sequential()\n",
    "#     model.add(Melspectrogram(n_dft=1024, n_hop=512, input_shape=input_shape, return_decibel_melgram=True, trainable_fb=False, name='melgram'))\n",
    "#     model.add(Normalization2D(str_axis='freq'))\n",
    "    model.add(Reshape((-1, 1) ,input_shape = input_shape))\n",
    "    \n",
    "    # Layer 1\n",
    "    model.add(Conv1D(32, 8, activation='relu'))\n",
    "    model.add(BatchNormalization())\n",
    "    model.add(MaxPooling1D(pool_size=4)) \n",
    "\n",
    "    # Layer 2\n",
    "    model.add(Conv1D(32, 8, activation='relu'))\n",
    "    model.add(BatchNormalization())\n",
    "    model.add(MaxPooling1D(pool_size=4)) \n",
    "    model.add(Flatten()) \n",
    "\n",
    "    model.add(Dense(100, activation='relu')) \n",
    "    model.add(BatchNormalization())\n",
    "    model.add(Dense(10,activation='softmax'))\n",
    "    \n",
    "    model.compile(loss='categorical_crossentropy' , optimizer='sgd' , metrics=['accuracy'])\n",
    "\n",
    "    history = None\n",
    "    \n",
    "model.summary()"
   ]
  },
  {
   "cell_type": "code",
   "execution_count": 19,
   "metadata": {},
   "outputs": [
    {
     "name": "stdout",
     "output_type": "stream",
     "text": [
      "Epoch 1/10\n",
      "113/113 [==============================] - 10s 86ms/step - loss: 2.0836 - accuracy: 0.2789 - val_loss: 4.0779 - val_accuracy: 0.0700\n",
      "Epoch 2/10\n",
      "113/113 [==============================] - 9s 80ms/step - loss: 1.8047 - accuracy: 0.3911 - val_loss: 3.0831 - val_accuracy: 0.1900\n",
      "Epoch 3/10\n",
      "113/113 [==============================] - 9s 80ms/step - loss: 1.3917 - accuracy: 0.5578 - val_loss: 3.5243 - val_accuracy: 0.3200\n",
      "Epoch 4/10\n",
      "113/113 [==============================] - 9s 81ms/step - loss: 1.0860 - accuracy: 0.6756 - val_loss: 1.8536 - val_accuracy: 0.3200\n",
      "Epoch 5/10\n",
      "113/113 [==============================] - 9s 81ms/step - loss: 0.8553 - accuracy: 0.7622 - val_loss: 2.1411 - val_accuracy: 0.4000\n",
      "Epoch 6/10\n",
      "113/113 [==============================] - 9s 81ms/step - loss: 0.4958 - accuracy: 0.8856 - val_loss: 2.8160 - val_accuracy: 0.4200\n",
      "Epoch 7/10\n",
      "113/113 [==============================] - 9s 81ms/step - loss: 0.3428 - accuracy: 0.9356 - val_loss: 2.5029 - val_accuracy: 0.4000\n",
      "Epoch 8/10\n",
      "113/113 [==============================] - 9s 81ms/step - loss: 0.2626 - accuracy: 0.9589 - val_loss: 3.8213 - val_accuracy: 0.3600\n",
      "Epoch 9/10\n",
      "113/113 [==============================] - 9s 81ms/step - loss: 0.1670 - accuracy: 0.9811 - val_loss: 1.1039 - val_accuracy: 0.4500\n",
      "Epoch 10/10\n",
      "113/113 [==============================] - 9s 81ms/step - loss: 0.1207 - accuracy: 0.9844 - val_loss: 2.6375 - val_accuracy: 0.4600\n"
     ]
    }
   ],
   "source": [
    "History = model.fit_generator(train_generator, validation_data=validation_generator, epochs=10)"
   ]
  },
  {
   "cell_type": "code",
   "execution_count": null,
   "metadata": {},
   "outputs": [],
   "source": [
    "# earlystop = keras.callbacks.EarlyStopping(monitor='val_loss', patience=2, mode='auto')\n",
    "History = model.fit(list_data_train, classes_num_1hot, validation_split=0.1, batch_size=32, epochs=15)\n",
    "\n",
    "if history is None:\n",
    "    history = History.history\n",
    "else:\n",
    "    for key in History.history.keys():\n",
    "        history[key].extend(History.history[key])\n",
    "        \n",
    "model.save(modelName + \".h5\")\n",
    "np.save(modelName + \"-history.npy\", history)"
   ]
  },
  {
   "cell_type": "code",
   "execution_count": 20,
   "metadata": {},
   "outputs": [],
   "source": [
    "def plot_traincurve(history):\n",
    "    colors = {'loss':'r', 'accuracy':'b', 'val_loss':'m', 'val_accuracy':'g'}\n",
    "    plt.figure(figsize=(10,6))\n",
    "    plt.title(\"Training Curve\") \n",
    "    plt.xlabel(\"Epoch\")\n",
    "    for measure in history.keys():\n",
    "        color = colors[measure]\n",
    "        ln = len(history[measure])\n",
    "        plt.plot(range(1,ln+1), history[measure], color + '-', label=measure)  # use last 2 values to draw line\n",
    "    plt.legend(loc='upper left', scatterpoints = 1, frameon=False)"
   ]
  },
  {
   "cell_type": "code",
   "execution_count": 21,
   "metadata": {},
   "outputs": [
    {
     "data": {
      "image/png": "[encoded data removed]",
      "text/plain": [
       "<Figure size 720x432 with 1 Axes>"
      ]
     },
     "metadata": {
      "needs_background": "light"
     },
     "output_type": "display_data"
    }
   ],
   "source": [
    "history = History.history\n",
    "plot_traincurve(history)"
   ]
  },
  {
   "cell_type": "code",
   "execution_count": null,
   "metadata": {},
   "outputs": [],
   "source": [
    "test_pred = model.predict_classes(list_data_test, verbose=1)\n",
    "test_proba = model.predict_proba(list_data_test, verbose=1)"
   ]
  },
  {
   "cell_type": "code",
   "execution_count": null,
   "metadata": {
    "scrolled": true
   },
   "outputs": [],
   "source": [
    "accuracy_score(classes_num_test, test_pred)"
   ]
  },
  {
   "cell_type": "code",
   "execution_count": null,
   "metadata": {},
   "outputs": [],
   "source": [
    "skplt.metrics.plot_confusion_matrix(classes_num_test, test_pred, normalize=True)\n",
    "plt.show()"
   ]
  },
  {
   "cell_type": "code",
   "execution_count": null,
   "metadata": {},
   "outputs": [],
   "source": [
    "skplt.metrics.plot_precision_recall(classes_num_test, test_proba)\n",
    "plt.show()"
   ]
  },
  {
   "cell_type": "code",
   "execution_count": null,
   "metadata": {
    "scrolled": true
   },
   "outputs": [],
   "source": [
    "skplt.metrics.plot_roc(classes_num_test, test_proba)\n",
    "plt.show()"
   ]
  }
 ],
 "metadata": {
  "kernelspec": {
   "display_name": "tf_gpu",
   "language": "python",
   "name": "tf_gpu"
  },
  "language_info": {
   "codemirror_mode": {
    "name": "ipython",
    "version": 3
   },
   "file_extension": ".py",
   "mimetype": "text/x-python",
   "name": "python",
   "nbconvert_exporter": "python",
   "pygments_lexer": "ipython3",
   "version": "3.7.5"
  }
 },
 "nbformat": 4,
 "nbformat_minor": 4
}
